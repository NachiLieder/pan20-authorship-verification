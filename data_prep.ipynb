{
 "cells": [
  {
   "cell_type": "markdown",
   "metadata": {
    "toc": true
   },
   "source": [
    "<h1>Table of Contents<span class=\"tocSkip\"></span></h1>\n",
    "<div class=\"toc\"><ul class=\"toc-item\"></ul></div>"
   ]
  },
  {
   "cell_type": "code",
   "execution_count": 1,
   "metadata": {},
   "outputs": [],
   "source": [
    "import pandas as pd\n"
   ]
  },
  {
   "cell_type": "code",
   "execution_count": 91,
   "metadata": {},
   "outputs": [
    {
     "data": {
      "text/plain": [
       "(5204, 5)"
      ]
     },
     "execution_count": 91,
     "metadata": {},
     "output_type": "execute_result"
    }
   ],
   "source": [
    "import pandas as pd\n",
    "import numpy as np\n",
    "\n",
    "# df = pd.read_csv('sample.csv')\n",
    "\n",
    "\n",
    "import random\n",
    "p = 0.1  # 1% of the lines\n",
    "# keep the header, then take only 1% of lines\n",
    "# if random from [0,1] interval is greater than 0.01 the row will be skipped\n",
    "df = pd.read_csv(\n",
    "         'sample.csv',\n",
    "         skiprows=lambda i: i>0 and random.random() > p\n",
    ")\n",
    "\n",
    "df.shape"
   ]
  },
  {
   "cell_type": "code",
   "execution_count": 101,
   "metadata": {},
   "outputs": [
    {
     "data": {
      "text/html": [
       "<div>\n",
       "<style scoped>\n",
       "    .dataframe tbody tr th:only-of-type {\n",
       "        vertical-align: middle;\n",
       "    }\n",
       "\n",
       "    .dataframe tbody tr th {\n",
       "        vertical-align: top;\n",
       "    }\n",
       "\n",
       "    .dataframe thead th {\n",
       "        text-align: right;\n",
       "    }\n",
       "</style>\n",
       "<table border=\"1\" class=\"dataframe\">\n",
       "  <thead>\n",
       "    <tr style=\"text-align: right;\">\n",
       "      <th></th>\n",
       "      <th>pair</th>\n",
       "      <th>text_1</th>\n",
       "      <th>text_2</th>\n",
       "      <th>authors</th>\n",
       "      <th>same</th>\n",
       "      <th>id_1</th>\n",
       "      <th>id_2</th>\n",
       "    </tr>\n",
       "  </thead>\n",
       "  <tbody>\n",
       "    <tr>\n",
       "      <th>0</th>\n",
       "      <td>['I shift a bit, warily letting my eyes dart f...</td>\n",
       "      <td>shift bit warily letting eyes dart one owl eye...</td>\n",
       "      <td>suddenly piece ice falls pit stomach im thinki...</td>\n",
       "      <td>['1446633', '1446633']</td>\n",
       "      <td>True</td>\n",
       "      <td>0_1</td>\n",
       "      <td>0_2</td>\n",
       "    </tr>\n",
       "    <tr>\n",
       "      <th>1</th>\n",
       "      <td>['I couldn\"t help it. I laughed. She looked at...</td>\n",
       "      <td>couldnt help laughed looked like finally lost ...</td>\n",
       "      <td>looking said phone clarices shout young man ye...</td>\n",
       "      <td>['2743296', '2743296']</td>\n",
       "      <td>True</td>\n",
       "      <td>1_1</td>\n",
       "      <td>1_2</td>\n",
       "    </tr>\n",
       "    <tr>\n",
       "      <th>2</th>\n",
       "      <td>['Kuki, and a steak for Wally.(again, stupid. ...</td>\n",
       "      <td>kuki steak wallyagain stupid could poisoned we...</td>\n",
       "      <td>clay asked young man straightening sheets bed ...</td>\n",
       "      <td>['793079', '793079']</td>\n",
       "      <td>True</td>\n",
       "      <td>2_1</td>\n",
       "      <td>2_2</td>\n",
       "    </tr>\n",
       "    <tr>\n",
       "      <th>3</th>\n",
       "      <td>['The third time was the next week when they w...</td>\n",
       "      <td>third time next week store buy last minute lun...</td>\n",
       "      <td>land mountain difficulty soon realize lot grou...</td>\n",
       "      <td>['2937792', '2937792']</td>\n",
       "      <td>True</td>\n",
       "      <td>3_1</td>\n",
       "      <td>3_2</td>\n",
       "    </tr>\n",
       "    <tr>\n",
       "      <th>4</th>\n",
       "      <td>['Why couldn\"t she have better friends? Why co...</td>\n",
       "      <td>couldnt better friends couldnt someone could r...</td>\n",
       "      <td>taken steps loud crash several crates fell til...</td>\n",
       "      <td>['807106', '807106']</td>\n",
       "      <td>True</td>\n",
       "      <td>4_1</td>\n",
       "      <td>4_2</td>\n",
       "    </tr>\n",
       "  </tbody>\n",
       "</table>\n",
       "</div>"
      ],
      "text/plain": [
       "                                                pair  \\\n",
       "0  ['I shift a bit, warily letting my eyes dart f...   \n",
       "1  ['I couldn\"t help it. I laughed. She looked at...   \n",
       "2  ['Kuki, and a steak for Wally.(again, stupid. ...   \n",
       "3  ['The third time was the next week when they w...   \n",
       "4  ['Why couldn\"t she have better friends? Why co...   \n",
       "\n",
       "                                              text_1  \\\n",
       "0  shift bit warily letting eyes dart one owl eye...   \n",
       "1  couldnt help laughed looked like finally lost ...   \n",
       "2  kuki steak wallyagain stupid could poisoned we...   \n",
       "3  third time next week store buy last minute lun...   \n",
       "4  couldnt better friends couldnt someone could r...   \n",
       "\n",
       "                                              text_2                 authors  \\\n",
       "0  suddenly piece ice falls pit stomach im thinki...  ['1446633', '1446633']   \n",
       "1  looking said phone clarices shout young man ye...  ['2743296', '2743296']   \n",
       "2  clay asked young man straightening sheets bed ...    ['793079', '793079']   \n",
       "3  land mountain difficulty soon realize lot grou...  ['2937792', '2937792']   \n",
       "4  taken steps loud crash several crates fell til...    ['807106', '807106']   \n",
       "\n",
       "   same id_1 id_2  \n",
       "0  True  0_1  0_2  \n",
       "1  True  1_1  1_2  \n",
       "2  True  2_1  2_2  \n",
       "3  True  3_1  3_2  \n",
       "4  True  4_1  4_2  "
      ]
     },
     "execution_count": 101,
     "metadata": {},
     "output_type": "execute_result"
    }
   ],
   "source": [
    "df.head()"
   ]
  },
  {
   "cell_type": "code",
   "execution_count": 92,
   "metadata": {},
   "outputs": [],
   "source": [
    "def rowIndex(row):\n",
    "    return row.name\n",
    "\n",
    "df['id_1'] = df.index\n",
    "df['id_1'] = (df['id_1']).astype(str) + '_1'\n",
    "df['id_2'] = df.index\n",
    "df['id_2'] = (df['id_2']).astype(str) + '_2'\n"
   ]
  },
  {
   "cell_type": "code",
   "execution_count": 93,
   "metadata": {},
   "outputs": [],
   "source": [
    "df.to_csv('sample_0.1.csv',index=False)"
   ]
  },
  {
   "cell_type": "code",
   "execution_count": 100,
   "metadata": {},
   "outputs": [],
   "source": [
    "df[['id_1','id_2']].to_csv('id_pairs_for_calc_distances.csv',index=False)"
   ]
  },
  {
   "cell_type": "code",
   "execution_count": 94,
   "metadata": {},
   "outputs": [],
   "source": [
    "df[['text_1','id_1']].append(df[['text_2','id_2']])\n",
    "df_1 = df[['text_1','id_1']]\n",
    "df_2 = df[['text_2','id_2']]\n",
    "df_1.columns= ['text','id']\n",
    "df_2.columns= ['text','id']\n",
    "df_text_and_id = df_1.append(df_2)\n"
   ]
  },
  {
   "cell_type": "code",
   "execution_count": 95,
   "metadata": {},
   "outputs": [
    {
     "name": "stdout",
     "output_type": "stream",
     "text": [
      "500\n",
      "1000\n",
      "1500\n",
      "2000\n",
      "2500\n",
      "3000\n",
      "3500\n",
      "4000\n",
      "4500\n",
      "5000\n",
      "5500\n",
      "6000\n",
      "6500\n",
      "7000\n",
      "7500\n",
      "8000\n",
      "8500\n",
      "9000\n",
      "9500\n",
      "10000\n"
     ]
    }
   ],
   "source": [
    "# create frequency matrix\n",
    "\n",
    "line_counter=1\n",
    "frequency = pd.DataFrame()\n",
    "# dvr_raw = list(df['text_1']) + list(df['text_2']) \n",
    "for ix, row in df_text_and_id.iterrows():\n",
    "    \n",
    "    if line_counter%500 == 0:\n",
    "        print(line_counter)\n",
    "    single_df = pd.Series(row['text'].split()).value_counts().to_frame(name='frequency_in_category').reset_index().rename(columns={'index': 'element'})\n",
    "    single_df['category'] = row['id']\n",
    "    frequency = frequency.append(single_df)\n",
    "    line_counter += 1"
   ]
  },
  {
   "cell_type": "code",
   "execution_count": 96,
   "metadata": {},
   "outputs": [],
   "source": [
    "frequency.to_csv('frequency_nachi.csv', index=False)"
   ]
  },
  {
   "cell_type": "code",
   "execution_count": 97,
   "metadata": {},
   "outputs": [
    {
     "data": {
      "text/plain": [
       "496"
      ]
     },
     "execution_count": 97,
     "metadata": {},
     "output_type": "execute_result"
    }
   ],
   "source": [
    "frequency['frequency_in_category'].max()"
   ]
  }
 ],
 "metadata": {
  "kernelspec": {
   "display_name": "model1",
   "language": "python",
   "name": "model1"
  },
  "language_info": {
   "codemirror_mode": {
    "name": "ipython",
    "version": 3
   },
   "file_extension": ".py",
   "mimetype": "text/x-python",
   "name": "python",
   "nbconvert_exporter": "python",
   "pygments_lexer": "ipython3",
   "version": "3.7.3"
  },
  "toc": {
   "base_numbering": 1,
   "nav_menu": {},
   "number_sections": true,
   "sideBar": true,
   "skip_h1_title": false,
   "title_cell": "Table of Contents",
   "title_sidebar": "Contents",
   "toc_cell": true,
   "toc_position": {},
   "toc_section_display": true,
   "toc_window_display": true
  }
 },
 "nbformat": 4,
 "nbformat_minor": 4
}
