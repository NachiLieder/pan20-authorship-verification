{
 "cells": [
  {
   "cell_type": "markdown",
   "metadata": {
    "toc": true
   },
   "source": [
    "<h1>Table of Contents<span class=\"tocSkip\"></span></h1>\n",
    "<div class=\"toc\"><ul class=\"toc-item\"><li><span><a href=\"#Add-LPA\" data-toc-modified-id=\"Add-LPA-1\"><span class=\"toc-item-num\">1&nbsp;&nbsp;</span>Add LPA</a></span></li><li><span><a href=\"#feed-into-linear-model-an-ensemble\" data-toc-modified-id=\"feed-into-linear-model-an-ensemble-2\"><span class=\"toc-item-num\">2&nbsp;&nbsp;</span>feed into linear model an ensemble</a></span></li></ul></div>"
   ]
  },
  {
   "cell_type": "code",
   "execution_count": 1,
   "metadata": {},
   "outputs": [
    {
     "name": "stderr",
     "output_type": "stream",
     "text": [
      "Using TensorFlow backend.\n"
     ]
    }
   ],
   "source": [
    "# from tensorflow.keras.preprocessing.text  import Tokenizer\n",
    "from keras.preprocessing.text import Tokenizer\n",
    "from keras.preprocessing.sequence import pad_sequences\n",
    "from keras.models import Sequential\n",
    "from keras.layers import Dense, Bidirectional, LSTM, Dropout, BatchNormalization\n",
    "from keras.layers.embeddings import Embedding\n",
    "import keras.backend as K\n",
    "\n",
    "import matplotlib.pyplot as plt\n",
    "\n",
    "import matplotlib.pyplot as plt\n",
    "from sklearn import model_selection\n",
    "from sklearn.linear_model import LogisticRegression\n",
    "from sklearn.tree import DecisionTreeClassifier\n",
    "from sklearn.neighbors import KNeighborsClassifier\n",
    "from sklearn.discriminant_analysis import LinearDiscriminantAnalysis\n",
    "from sklearn.naive_bayes import GaussianNB\n",
    "from sklearn.svm import SVC"
   ]
  },
  {
   "cell_type": "code",
   "execution_count": 2,
   "metadata": {},
   "outputs": [],
   "source": [
    "import pandas as pd\n",
    "import numpy as np\n",
    "\n",
    "df = pd.read_csv('sample_0.1.csv')\n"
   ]
  },
  {
   "cell_type": "code",
   "execution_count": 3,
   "metadata": {},
   "outputs": [
    {
     "data": {
      "text/plain": [
       "(count      5204.000000\n",
       " mean      13141.790738\n",
       " std        2517.940718\n",
       " min       10836.000000\n",
       " 25%       12710.000000\n",
       " 50%       13063.500000\n",
       " 75%       13423.000000\n",
       " max      178188.000000\n",
       " Name: len_1, dtype: float64,\n",
       " count      5204.000000\n",
       " mean      13125.754228\n",
       " std        1646.337620\n",
       " min       11125.000000\n",
       " 25%       12700.750000\n",
       " 50%       13059.000000\n",
       " 75%       13418.250000\n",
       " max      113338.000000\n",
       " Name: len_2, dtype: float64)"
      ]
     },
     "execution_count": 3,
     "metadata": {},
     "output_type": "execute_result"
    }
   ],
   "source": [
    "import seaborn as sns\n",
    "df['len_1'] = df['text_1'].apply(lambda x: len(x))\n",
    "df['len_2'] = df['text_2'].apply(lambda x: len(x))\n",
    "df['len_1'].describe(),df['len_2'].describe()\n"
   ]
  },
  {
   "cell_type": "code",
   "execution_count": 4,
   "metadata": {},
   "outputs": [
    {
     "name": "stderr",
     "output_type": "stream",
     "text": [
      "c:\\users\\212778050\\pycharmprojects\\predict-sr-based-on-syslog\\deploy_model\\env_deployment\\lib\\site-packages\\scipy\\stats\\_distn_infrastructure.py:1625: RuntimeWarning: divide by zero encountered in log\n",
      "  return log(self._pdf(x, *args))\n"
     ]
    },
    {
     "data": {
      "text/plain": [
       "Text(0.5, 0.98, 'Text Length')"
      ]
     },
     "execution_count": 4,
     "metadata": {},
     "output_type": "execute_result"
    },
    {
     "data": {
      "image/png": "[encoded data removed]",
      "text/plain": [
       "<Figure size 432x288 with 1 Axes>"
      ]
     },
     "metadata": {},
     "output_type": "display_data"
    }
   ],
   "source": [
    "# df['len_2'].hist(bins=10, grid=True)\n",
    "from scipy import stats \n",
    "sns.set_style('darkgrid')\n",
    "sns.distplot(df[['len_1']], fit=stats.laplace)\n",
    "plt.suptitle('Text Length')\n",
    "\n"
   ]
  },
  {
   "cell_type": "code",
   "execution_count": 5,
   "metadata": {},
   "outputs": [
    {
     "data": {
      "text/plain": [
       "13066.0"
      ]
     },
     "execution_count": 5,
     "metadata": {},
     "output_type": "execute_result"
    },
    {
     "data": {
      "image/png": "[encoded data removed]",
      "text/plain": [
       "<Figure size 432x288 with 1 Axes>"
      ]
     },
     "metadata": {},
     "output_type": "display_data"
    }
   ],
   "source": [
    "import ast\n",
    "df['author_1'] = df['authors'].apply(lambda x: ast.literal_eval(x)[0] )\n",
    "sns.set_style('darkgrid')\n",
    "sns.distplot(df.groupby(['author_1']).mean()['len_1'], fit=stats.laplace)\n",
    "plt.suptitle('Text Length Per Author')\n",
    "plt.xlabel('Text Length')\n",
    "\n",
    "df.groupby(['author_1']).mean()['len_1'].median()"
   ]
  },
  {
   "cell_type": "code",
   "execution_count": 6,
   "metadata": {},
   "outputs": [
    {
     "data": {
      "text/plain": [
       "(0.5253651037663336, (5204, 10))"
      ]
     },
     "execution_count": 6,
     "metadata": {},
     "output_type": "execute_result"
    }
   ],
   "source": [
    "df['same'].mean(), df.shape\n"
   ]
  },
  {
   "cell_type": "code",
   "execution_count": 7,
   "metadata": {},
   "outputs": [],
   "source": [
    "sample_df = df.sample(n=5000)"
   ]
  },
  {
   "cell_type": "code",
   "execution_count": 8,
   "metadata": {},
   "outputs": [
    {
     "data": {
      "text/plain": [
       "0.5246"
      ]
     },
     "execution_count": 8,
     "metadata": {},
     "output_type": "execute_result"
    }
   ],
   "source": [
    "sample_df['same'] = sample_df['same'].astype(int)\n",
    "sample_df['same'].mean()"
   ]
  },
  {
   "cell_type": "code",
   "execution_count": 9,
   "metadata": {},
   "outputs": [
    {
     "name": "stderr",
     "output_type": "stream",
     "text": [
      "c:\\users\\212778050\\pycharmprojects\\predict-sr-based-on-syslog\\deploy_model\\env_deployment\\lib\\site-packages\\ipykernel_launcher.py:23: SettingWithCopyWarning: \n",
      "A value is trying to be set on a copy of a slice from a DataFrame.\n",
      "Try using .loc[row_indexer,col_indexer] = value instead\n",
      "\n",
      "See the caveats in the documentation: http://pandas.pydata.org/pandas-docs/stable/indexing.html#indexing-view-versus-copy\n",
      "c:\\users\\212778050\\pycharmprojects\\predict-sr-based-on-syslog\\deploy_model\\env_deployment\\lib\\site-packages\\ipykernel_launcher.py:24: SettingWithCopyWarning: \n",
      "A value is trying to be set on a copy of a slice from a DataFrame.\n",
      "Try using .loc[row_indexer,col_indexer] = value instead\n",
      "\n",
      "See the caveats in the documentation: http://pandas.pydata.org/pandas-docs/stable/indexing.html#indexing-view-versus-copy\n",
      "c:\\users\\212778050\\pycharmprojects\\predict-sr-based-on-syslog\\deploy_model\\env_deployment\\lib\\site-packages\\ipykernel_launcher.py:26: SettingWithCopyWarning: \n",
      "A value is trying to be set on a copy of a slice from a DataFrame.\n",
      "Try using .loc[row_indexer,col_indexer] = value instead\n",
      "\n",
      "See the caveats in the documentation: http://pandas.pydata.org/pandas-docs/stable/indexing.html#indexing-view-versus-copy\n",
      "c:\\users\\212778050\\pycharmprojects\\predict-sr-based-on-syslog\\deploy_model\\env_deployment\\lib\\site-packages\\ipykernel_launcher.py:28: SettingWithCopyWarning: \n",
      "A value is trying to be set on a copy of a slice from a DataFrame.\n",
      "Try using .loc[row_indexer,col_indexer] = value instead\n",
      "\n",
      "See the caveats in the documentation: http://pandas.pydata.org/pandas-docs/stable/indexing.html#indexing-view-versus-copy\n"
     ]
    },
    {
     "data": {
      "text/plain": [
       "164183"
      ]
     },
     "execution_count": 9,
     "metadata": {},
     "output_type": "execute_result"
    }
   ],
   "source": [
    "#max_length = sample_df.pair.apply(lambda x: len(x.split())).max()\n",
    "####################################\n",
    "# Define the max length of the text\n",
    "####################################\n",
    "max_length = 2000\n",
    "\n",
    "pairs = pd.read_csv('pairs_distances.csv', )\n",
    "pairs.head()\n",
    "\n",
    "df_with_distance = df.merge(pairs[['id_1','id_2','distance']],\n",
    "        how='inner',\n",
    "        left_on=['id_1','id_2'],\n",
    "        right_on= ['id_1','id_2'])\n",
    "\n",
    "\n",
    "# get sample of N articles with distance\n",
    "sample_df_with_distance = df_with_distance.iloc[sample_df.index]\n",
    "\n",
    "\n",
    "\n",
    "tokenizer = Tokenizer()\n",
    "tokenizer.fit_on_texts(sample_df['pair'])\n",
    "sample_df_with_distance['tokenized_text_1'] = tokenizer.texts_to_sequences(sample_df_with_distance['text_1'])\n",
    "sample_df_with_distance['tokenized_text_2'] = tokenizer.texts_to_sequences(sample_df_with_distance['text_2'])\n",
    "sample_df_with_distance['tokenized_text_1'] = list(pad_sequences(sample_df_with_distance['tokenized_text_1'], \n",
    "                                                                 maxlen = max_length, padding='post'))\n",
    "sample_df_with_distance['tokenized_text_2'] = list(pad_sequences(sample_df_with_distance['tokenized_text_2'], \n",
    "                                                                 maxlen = max_length, padding='post'))\n",
    "\n",
    "# vocab_size = max(max([max(sublist) for sublist in df['tokenized_text_1'].values])+1 , max([max(sublist) for sublist in df['tokenized_text_2'].values])+1 )\n",
    "vocab_size = len(tokenizer.word_index.items())+1\n",
    "vocab_size"
   ]
  },
  {
   "cell_type": "code",
   "execution_count": 10,
   "metadata": {},
   "outputs": [],
   "source": [
    "import numpy as np\n",
    "embeddings_index = dict()\n",
    "f = open('../../glove/glove.6B.50d.txt', encoding=\"utf8\")\n",
    "\n",
    "for line in f:\n",
    "    values = line.split()\n",
    "    word = values[0]\n",
    "    coefs = np.asarray(values[1:], dtype='float32')\n",
    "    embeddings_index[word] = coefs\n",
    "f.close()"
   ]
  },
  {
   "cell_type": "code",
   "execution_count": 11,
   "metadata": {},
   "outputs": [],
   "source": [
    "len(tokenizer.word_index.items()),vocab_size\n",
    "vocab_size = len(tokenizer.word_index.items())+1\n"
   ]
  },
  {
   "cell_type": "code",
   "execution_count": 12,
   "metadata": {},
   "outputs": [
    {
     "data": {
      "text/plain": [
       "164183"
      ]
     },
     "execution_count": 12,
     "metadata": {},
     "output_type": "execute_result"
    }
   ],
   "source": [
    "vocab_size"
   ]
  },
  {
   "cell_type": "code",
   "execution_count": 13,
   "metadata": {},
   "outputs": [
    {
     "name": "stdout",
     "output_type": "stream",
     "text": [
      "164182\n"
     ]
    },
    {
     "data": {
      "text/plain": [
       "array([[ 0.        ,  0.        ,  0.        , ...,  0.        ,\n",
       "         0.        ,  0.        ],\n",
       "       [ 0.41800001,  0.24968   , -0.41242   , ..., -0.18411   ,\n",
       "        -0.11514   , -0.78580999],\n",
       "       [ 0.68046999, -0.039263  ,  0.30186   , ..., -0.073297  ,\n",
       "        -0.064699  , -0.26043999],\n",
       "       ...,\n",
       "       [ 0.        ,  0.        ,  0.        , ...,  0.        ,\n",
       "         0.        ,  0.        ],\n",
       "       [-1.2026    , -1.07720006,  0.71069002, ...,  0.37542   ,\n",
       "        -0.54056001, -0.93211001],\n",
       "       [ 0.        ,  0.        ,  0.        , ...,  0.        ,\n",
       "         0.        ,  0.        ]])"
      ]
     },
     "execution_count": 13,
     "metadata": {},
     "output_type": "execute_result"
    }
   ],
   "source": [
    "embedding_matrix = np.zeros((vocab_size, 50))\n",
    "print(len(tokenizer.word_index.items()))\n",
    "for word, i in tokenizer.word_index.items():\n",
    "    embedding_vector = embeddings_index.get(word)\n",
    "    if embedding_vector is not None:\n",
    "        embedding_matrix[i] = embedding_vector\n",
    "embedding_matrix"
   ]
  },
  {
   "cell_type": "code",
   "execution_count": 14,
   "metadata": {},
   "outputs": [
    {
     "data": {
      "text/plain": [
       "((3000, 3), (1000, 3), (1000, 3))"
      ]
     },
     "execution_count": 14,
     "metadata": {},
     "output_type": "execute_result"
    }
   ],
   "source": [
    "from sklearn.model_selection import train_test_split\n",
    "from sklearn.metrics import classification_report, precision_recall_curve\n",
    "\n",
    "\n",
    "X_train, X_test, y_train, y_test = train_test_split(sample_df_with_distance[['tokenized_text_1',\n",
    "                                                                             'tokenized_text_2',\n",
    "                                                                             'distance']], \n",
    "                                                    sample_df_with_distance['same'],\n",
    "                                                    test_size=0.2 , random_state=1)\n",
    "\n",
    "X_train, X_val, y_train, y_val = train_test_split(X_train, y_train, \n",
    "                                                  test_size=0.25, random_state=1)\n",
    "\n",
    "\n",
    "X_train.shape , X_test.shape , X_val.shape"
   ]
  },
  {
   "cell_type": "code",
   "execution_count": 15,
   "metadata": {},
   "outputs": [
    {
     "data": {
      "text/plain": [
       "2000"
      ]
     },
     "execution_count": 15,
     "metadata": {},
     "output_type": "execute_result"
    }
   ],
   "source": [
    "len(X_train.iloc[1][0])"
   ]
  },
  {
   "cell_type": "code",
   "execution_count": 16,
   "metadata": {},
   "outputs": [
    {
     "name": "stdout",
     "output_type": "stream",
     "text": [
      "[1.04968509 0.95480586]\n",
      "[INFO] training model...\n",
      "Train on 3000 samples, validate on 1000 samples\n",
      "Epoch 1/20\n",
      "3000/3000 [==============================] - 3848s 1s/step - loss: 66.1881 - binary_accuracy: 0.4900 - val_loss: 65.5742 - val_binary_accuracy: 0.4820\n",
      "Epoch 2/20\n",
      "3000/3000 [==============================] - 4113s 1s/step - loss: 66.1158 - binary_accuracy: 0.4967 - val_loss: 65.4659 - val_binary_accuracy: 0.4910\n",
      "Epoch 3/20\n",
      "3000/3000 [==============================] - 6544s 2s/step - loss: 65.9715 - binary_accuracy: 0.4983 - val_loss: 65.3932 - val_binary_accuracy: 0.4880\n",
      "Epoch 4/20\n",
      "3000/3000 [==============================] - 6700s 2s/step - loss: 65.9126 - binary_accuracy: 0.4907 - val_loss: 65.3124 - val_binary_accuracy: 0.4840\n",
      "Epoch 5/20\n",
      "3000/3000 [==============================] - 9473s 3s/step - loss: 65.7890 - binary_accuracy: 0.4890 - val_loss: 65.2238 - val_binary_accuracy: 0.4890\n",
      "Epoch 6/20\n",
      "3000/3000 [==============================] - 9243s 3s/step - loss: 65.7388 - binary_accuracy: 0.4937 - val_loss: 65.1310 - val_binary_accuracy: 0.4950\n",
      "Epoch 7/20\n",
      "3000/3000 [==============================] - 9117s 3s/step - loss: 65.6039 - binary_accuracy: 0.4983 - val_loss: 65.0382 - val_binary_accuracy: 0.4940\n",
      "Epoch 8/20\n",
      "3000/3000 [==============================] - 9296s 3s/step - loss: 65.5503 - binary_accuracy: 0.5023 - val_loss: 64.9595 - val_binary_accuracy: 0.4830\n",
      "Epoch 9/20\n",
      "3000/3000 [==============================] - 9260s 3s/step - loss: 65.5021 - binary_accuracy: 0.4823 - val_loss: 64.8830 - val_binary_accuracy: 0.4910\n",
      "Epoch 10/20\n",
      "3000/3000 [==============================] - 10251s 3s/step - loss: 65.3917 - binary_accuracy: 0.4893 - val_loss: 64.8134 - val_binary_accuracy: 0.5010\n",
      "Epoch 11/20\n",
      "3000/3000 [==============================] - 10045s 3s/step - loss: 65.3016 - binary_accuracy: 0.4890 - val_loss: 64.7261 - val_binary_accuracy: 0.4940\n",
      "Epoch 12/20\n",
      "3000/3000 [==============================] - 10004s 3s/step - loss: 65.1715 - binary_accuracy: 0.4977 - val_loss: 64.6760 - val_binary_accuracy: 0.4910\n",
      "Epoch 13/20\n",
      "3000/3000 [==============================] - 10293s 3s/step - loss: 65.1117 - binary_accuracy: 0.5063 - val_loss: 64.5832 - val_binary_accuracy: 0.4940\n",
      "Epoch 14/20\n",
      "3000/3000 [==============================] - 8819s 3s/step - loss: 65.1262 - binary_accuracy: 0.4907 - val_loss: 64.5036 - val_binary_accuracy: 0.4970\n",
      "Epoch 15/20\n",
      "3000/3000 [==============================] - 10657s 4s/step - loss: 65.0081 - binary_accuracy: 0.4990 - val_loss: 64.4445 - val_binary_accuracy: 0.4840\n",
      "Epoch 16/20\n",
      "3000/3000 [==============================] - 10512s 4s/step - loss: 64.9078 - binary_accuracy: 0.4917 - val_loss: 64.3520 - val_binary_accuracy: 0.4920\n",
      "Epoch 17/20\n",
      "3000/3000 [==============================] - 10474s 3s/step - loss: 64.7924 - binary_accuracy: 0.5023 - val_loss: 64.2883 - val_binary_accuracy: 0.4890\n",
      "Epoch 18/20\n",
      "3000/3000 [==============================] - 9941s 3s/step - loss: 64.7176 - binary_accuracy: 0.5030 - val_loss: 64.2143 - val_binary_accuracy: 0.4860\n",
      "Epoch 19/20\n",
      "3000/3000 [==============================] - 9725s 3s/step - loss: 64.6109 - binary_accuracy: 0.5083 - val_loss: 64.1599 - val_binary_accuracy: 0.4870\n",
      "Epoch 20/20\n",
      "3000/3000 [==============================] - 5720s 2s/step - loss: 64.5793 - binary_accuracy: 0.4947 - val_loss: 64.0726 - val_binary_accuracy: 0.4950\n"
     ]
    }
   ],
   "source": [
    "from keras.models import Sequential, Model \n",
    "from keras.layers import Dense, Embedding, Dropout, LSTM, Concatenate , Reshape , Activation , Input, GlobalMaxPool1D, concatenate , BatchNormalization\n",
    "from tensorflow.keras.layers import Subtract ,Flatten \n",
    "from tensorflow.keras.optimizers import Adam , SGD\n",
    "from keras.layers import LeakyReLU , Dot , dot\n",
    "from keras.layers import Lambda\n",
    "from keras.regularizers import l2\n",
    "from sklearn.utils import class_weight\n",
    "\n",
    "import keras.backend as K\n",
    "from keras.layers import Lambda\n",
    "\n",
    "def squared_differences(pair_of_tensors):\n",
    "    x, y = pair_of_tensors\n",
    "    return K.square(x - y)\n",
    "\n",
    "\n",
    "\n",
    "# Calculate the weights for each class so that we can balance the data\n",
    "weights = class_weight.compute_class_weight('balanced',\n",
    "                                            np.unique(y_train),\n",
    "                                            y_train)\n",
    "print(weights)\n",
    "# create a eneric embedding layer model \n",
    "def create_model(vocab_size,max_length,embedding_matrix):\n",
    "    model = Sequential()\n",
    "    model.add(Embedding(vocab_size, 50, weights=[embedding_matrix], input_length = max_length))\n",
    "    model.add(Bidirectional(LSTM(32, \n",
    "                   return_sequences=False,\n",
    "                   dropout=0.1,\n",
    "                   recurrent_dropout=0.3,\n",
    "                   kernel_regularizer=l2(0.1), \n",
    "                   recurrent_regularizer=l2(0.1), \n",
    "                   bias_regularizer=l2(0.1))))\n",
    "    model.add(BatchNormalization(momentum=0.2))\n",
    "    model.add(Dense(32, kernel_regularizer=l2(0.1), bias_regularizer=l2(0.01)))\n",
    "    model.add(LeakyReLU(alpha=0.01))\n",
    "    model.add(Dropout(0.4))\n",
    "    \n",
    "    return model\n",
    "\n",
    "t1 = create_model(vocab_size,max_length,embedding_matrix)\n",
    "t2 = create_model(vocab_size,max_length,embedding_matrix)\n",
    "\n",
    "# combinedInput = concatenate([t1.output, t2.output])\n",
    "# combinedInput = dot([t1.output, t1.output],axes=1, normalize=True)\n",
    "\n",
    "# squared difference option\n",
    "square_diff = Lambda(squared_differences)([t1.output, t2.output])\n",
    "x = Dense(2,\n",
    "          kernel_regularizer=l2(0.5),\n",
    "          bias_regularizer=l2(0.5))(square_diff)\n",
    "\n",
    "\n",
    "# x = Dense(16,\n",
    "#           kernel_regularizer=l2(0.5),\n",
    "#           bias_regularizer=l2(0.5))(combinedInput)\n",
    "# x = LeakyReLU(alpha=0.01)(x)\n",
    "# x = Dropout(0.2)(x)\n",
    "# x = BatchNormalization(momentum=0.2)(x)\n",
    "# x = Dense(8, bias_regularizer=l2(1))(x)\n",
    "# x = LeakyReLU(alpha=0.01)(x)\n",
    "# x = Dropout(0.2)(x)\n",
    "x = Dense(1, activation=\"sigmoid\")(x)\n",
    "\n",
    "model = Model(inputs=[t1.input, t2.input], outputs=x)\n",
    "opt = Adam(lr=0.00001, decay=0.0015 )\n",
    "# opt = SGD(lr=0.0001, decay=1e-2 )\n",
    "model.compile(loss=\"binary_crossentropy\", optimizer=opt,metrics = ['binary_accuracy'])\n",
    "\n",
    "\n",
    "\n",
    "\n",
    "# train the model\n",
    "print(\"[INFO] training model...\")\n",
    "history = model.fit(\n",
    "    x=[np.stack(X_train['tokenized_text_1'], axis=0),\n",
    "       np.stack(X_train['tokenized_text_2'], axis=0)],\n",
    "    y=y_train,\n",
    "    validation_data=([np.stack(X_val['tokenized_text_1'], axis=0),\n",
    "                       np.stack(X_val['tokenized_text_2'], axis=0)], y_test),\n",
    "    epochs=20,\n",
    "    batch_size=256,\n",
    "    class_weight=weights\n",
    "    )\n",
    "\n",
    "\n",
    "\n"
   ]
  },
  {
   "cell_type": "code",
   "execution_count": null,
   "metadata": {},
   "outputs": [],
   "source": []
  },
  {
   "cell_type": "code",
   "execution_count": 17,
   "metadata": {},
   "outputs": [
    {
     "data": {
      "image/png": "[encoded data removed]",
      "text/plain": [
       "<Figure size 432x288 with 1 Axes>"
      ]
     },
     "metadata": {},
     "output_type": "display_data"
    },
    {
     "data": {
      "image/png": "[encoded data removed]",
      "text/plain": [
       "<Figure size 432x288 with 1 Axes>"
      ]
     },
     "metadata": {},
     "output_type": "display_data"
    }
   ],
   "source": [
    "metric = 'binary_accuracy'\n",
    "\n",
    "acc = history.history[metric]\n",
    "val_acc = history.history['val_{}'.format(metric)]\n",
    "loss = history.history['loss']\n",
    "val_loss = history.history['val_loss']\n",
    "epochs = range(1, len(acc) + 1)\n",
    "\n",
    "plt.title('Training and validation accuracy')\n",
    "plt.plot(epochs, acc, 'red', label='Training acc')\n",
    "plt.plot(epochs, val_acc, 'blue', label='Validation acc')\n",
    "plt.legend()\n",
    "\n",
    "plt.figure()\n",
    "plt.title('Training and validation loss')\n",
    "plt.plot(epochs, loss, 'red', label='Training loss')\n",
    "plt.plot(epochs, val_loss, 'blue', label='Validation loss')\n",
    "plt.legend()\n",
    "\n",
    "plt.show()"
   ]
  },
  {
   "cell_type": "code",
   "execution_count": 18,
   "metadata": {},
   "outputs": [
    {
     "data": {
      "text/plain": [
       "(0.531, 0.537)"
      ]
     },
     "execution_count": 18,
     "metadata": {},
     "output_type": "execute_result"
    }
   ],
   "source": [
    "preds = model.predict([np.stack(X_test['tokenized_text_1'], axis=0),\n",
    "                               np.stack(X_test['tokenized_text_2'], axis=0)])\n",
    "preds\n",
    "\n",
    "y_classes = preds>0.5\n",
    "y_test.mean(), y_classes.mean()"
   ]
  },
  {
   "cell_type": "code",
   "execution_count": 19,
   "metadata": {},
   "outputs": [
    {
     "name": "stdout",
     "output_type": "stream",
     "text": [
      "              precision    recall  f1-score   support\n",
      "\n",
      "       False       0.46      0.45      0.45       469\n",
      "        True       0.52      0.53      0.52       531\n",
      "\n",
      "    accuracy                           0.49      1000\n",
      "   macro avg       0.49      0.49      0.49      1000\n",
      "weighted avg       0.49      0.49      0.49      1000\n",
      "\n"
     ]
    }
   ],
   "source": [
    "from sklearn.metrics import classification_report\n",
    "print(classification_report(y_test, y_classes))"
   ]
  },
  {
   "cell_type": "code",
   "execution_count": 20,
   "metadata": {},
   "outputs": [
    {
     "name": "stdout",
     "output_type": "stream",
     "text": [
      "ROC AUC=0.478\n"
     ]
    },
    {
     "data": {
      "image/png": "[encoded data removed]",
      "text/plain": [
       "<Figure size 432x288 with 1 Axes>"
      ]
     },
     "metadata": {},
     "output_type": "display_data"
    }
   ],
   "source": [
    "from sklearn.datasets import make_classification\n",
    "from sklearn.linear_model import LogisticRegression\n",
    "from sklearn.model_selection import train_test_split\n",
    "from sklearn.metrics import roc_curve\n",
    "from sklearn.metrics import roc_auc_score\n",
    "from matplotlib import pyplot\n",
    "# calculate scores\n",
    "auc = roc_auc_score(y_test, preds)\n",
    "# summarize scores\n",
    "print('ROC AUC=%.3f' % (auc))\n",
    "# calculate roc curves\n",
    "ns_fpr, ns_tpr, _ = roc_curve(y_test, preds)\n",
    "# plot the roc curve for the model\n",
    "pyplot.plot(ns_fpr, ns_tpr, linestyle='--', label='Initial benchmark - RNN')\n",
    "# axis labels\n",
    "pyplot.xlabel('False Positive Rate')\n",
    "pyplot.ylabel('True Positive Rate')\n",
    "# show the legend\n",
    "pyplot.legend()\n",
    "# show the plot\n",
    "pyplot.show()"
   ]
  },
  {
   "cell_type": "markdown",
   "metadata": {},
   "source": [
    "# Add LPA"
   ]
  },
  {
   "cell_type": "code",
   "execution_count": 21,
   "metadata": {},
   "outputs": [
    {
     "data": {
      "text/plain": [
       "((5204, 4), (5204, 10))"
      ]
     },
     "execution_count": 21,
     "metadata": {},
     "output_type": "execute_result"
    }
   ],
   "source": [
    "pairs.shape , df.shape"
   ]
  },
  {
   "cell_type": "code",
   "execution_count": 22,
   "metadata": {},
   "outputs": [],
   "source": [
    "\n",
    "# df_with_distance = df.merge(pairs[['id_1','id_2','distance']],\n",
    "#         how='inner',\n",
    "#         left_on=['id_1','id_2'],\n",
    "#         right_on= ['id_1','id_2'])\n",
    "\n",
    "\n",
    "# # get sample of N articles with distance\n",
    "# sample_df_with_distance = df_with_distance.iloc[sample_df.index]\n",
    "\n",
    "# sample_df_with_distance['tokenized_text_1'] = tokenizer.texts_to_sequences(sample_df_with_distance['text_1'])\n",
    "# sample_df_with_distance['tokenized_text_2'] = tokenizer.texts_to_sequences(sample_df_with_distance['text_2'])\n",
    "# sample_df_with_distance['tokenized_text_1'] = list(pad_sequences(sample_df_with_distance['tokenized_text_1'], maxlen = max_length, padding='post'))\n",
    "# sample_df_with_distance['tokenized_text_2'] = list(pad_sequences(sample_df_with_distance['tokenized_text_2'], maxlen = max_length, padding='post'))\n",
    "\n",
    "# # vocab_size = max(max([max(sublist) for sublist in df['tokenized_text_1'].values])+1 , max([max(sublist) for sublist in df['tokenized_text_2'].values])+1 )\n",
    "# vocab_size = len(tokenizer.word_index.items())+1\n",
    "# vocab_size\n",
    "\n"
   ]
  },
  {
   "cell_type": "code",
   "execution_count": 23,
   "metadata": {},
   "outputs": [],
   "source": [
    "# X_train, X_test, y_train, y_test = train_test_split(sample_df_with_distance[['tokenized_text_1',\n",
    "#                                                                              'tokenized_text_2',\n",
    "#                                                                              'distance']], \n",
    "#                                                     sample_df_with_distance['same'],\n",
    "#                                                     test_size=0.2 , random_state=1)\n",
    "\n",
    "# X_train, X_val, y_train, y_val = train_test_split(X_train, y_train, \n",
    "#                                                   test_size=0.25, random_state=1)\n",
    "\n",
    "# X_train.shape , X_test.shape , X_val.shape"
   ]
  },
  {
   "cell_type": "code",
   "execution_count": 24,
   "metadata": {},
   "outputs": [
    {
     "name": "stdout",
     "output_type": "stream",
     "text": [
      "Tensor(\"leaky_re_lu_5/LeakyRelu:0\", shape=(None, 2), dtype=float32)\n",
      "<keras.engine.training.Model object at 0x000001563C2B9748>\n",
      "[INFO] training model...\n",
      "Train on 3000 samples, validate on 1000 samples\n",
      "Epoch 1/20\n",
      "3000/3000 [==============================] - 4145s 1s/step - loss: 15.7328 - binary_accuracy: 0.4637 - val_loss: 15.4474 - val_binary_accuracy: 0.4760\n",
      "Epoch 2/20\n",
      "3000/3000 [==============================] - 5176s 2s/step - loss: 15.8446 - binary_accuracy: 0.4563 - val_loss: 15.4467 - val_binary_accuracy: 0.4730\n",
      "Epoch 3/20\n",
      "3000/3000 [==============================] - 4256s 1s/step - loss: 15.7494 - binary_accuracy: 0.4687 - val_loss: 15.4471 - val_binary_accuracy: 0.4750\n",
      "Epoch 4/20\n",
      "3000/3000 [==============================] - 6617s 2s/step - loss: 15.7539 - binary_accuracy: 0.4663 - val_loss: 15.4491 - val_binary_accuracy: 0.4780\n",
      "Epoch 5/20\n",
      "3000/3000 [==============================] - 4169s 1s/step - loss: 15.7939 - binary_accuracy: 0.4763 - val_loss: 15.4491 - val_binary_accuracy: 0.4780\n",
      "Epoch 6/20\n",
      "3000/3000 [==============================] - 8570s 3s/step - loss: 15.7193 - binary_accuracy: 0.4800 - val_loss: 15.4498 - val_binary_accuracy: 0.4760\n",
      "Epoch 7/20\n",
      "3000/3000 [==============================] - 7942s 3s/step - loss: 15.8081 - binary_accuracy: 0.4700 - val_loss: 15.4450 - val_binary_accuracy: 0.4730\n",
      "Epoch 8/20\n",
      "3000/3000 [==============================] - 3514s 1s/step - loss: 15.8082 - binary_accuracy: 0.4673 - val_loss: 15.4482 - val_binary_accuracy: 0.4790\n",
      "Epoch 9/20\n",
      "3000/3000 [==============================] - 3426s 1s/step - loss: 15.7608 - binary_accuracy: 0.4673 - val_loss: 15.4539 - val_binary_accuracy: 0.4750\n",
      "Epoch 10/20\n",
      "3000/3000 [==============================] - 3471s 1s/step - loss: 15.7375 - binary_accuracy: 0.4673 - val_loss: 15.4485 - val_binary_accuracy: 0.4730\n",
      "Epoch 11/20\n",
      "3000/3000 [==============================] - 3468s 1s/step - loss: 15.8183 - binary_accuracy: 0.4693 - val_loss: 15.4477 - val_binary_accuracy: 0.4770\n",
      "Epoch 12/20\n",
      "3000/3000 [==============================] - 3474s 1s/step - loss: 15.7536 - binary_accuracy: 0.4670 - val_loss: 15.4467 - val_binary_accuracy: 0.4740\n",
      "Epoch 13/20\n",
      "3000/3000 [==============================] - 3521s 1s/step - loss: 15.7709 - binary_accuracy: 0.4743 - val_loss: 15.4498 - val_binary_accuracy: 0.4750\n",
      "Epoch 14/20\n",
      "3000/3000 [==============================] - 3425s 1s/step - loss: 15.7389 - binary_accuracy: 0.4667 - val_loss: 15.4494 - val_binary_accuracy: 0.4730\n",
      "Epoch 15/20\n",
      "3000/3000 [==============================] - 3466s 1s/step - loss: 15.8128 - binary_accuracy: 0.4730 - val_loss: 15.4488 - val_binary_accuracy: 0.4810\n",
      "Epoch 16/20\n",
      "3000/3000 [==============================] - 3490s 1s/step - loss: 15.7693 - binary_accuracy: 0.4733 - val_loss: 15.4479 - val_binary_accuracy: 0.4800\n",
      "Epoch 17/20\n",
      "3000/3000 [==============================] - 3492s 1s/step - loss: 15.7825 - binary_accuracy: 0.4680 - val_loss: 15.4490 - val_binary_accuracy: 0.4730\n",
      "Epoch 18/20\n",
      "3000/3000 [==============================] - 3502s 1s/step - loss: 15.7188 - binary_accuracy: 0.4757 - val_loss: 15.4456 - val_binary_accuracy: 0.4760\n",
      "Epoch 19/20\n",
      "3000/3000 [==============================] - 3515s 1s/step - loss: 15.7657 - binary_accuracy: 0.4733 - val_loss: 15.4452 - val_binary_accuracy: 0.4760\n",
      "Epoch 20/20\n",
      "3000/3000 [==============================] - 3501s 1s/step - loss: 15.7472 - binary_accuracy: 0.4653 - val_loss: 15.4462 - val_binary_accuracy: 0.4800\n"
     ]
    }
   ],
   "source": [
    "# create a eneric embedding layer model \n",
    "def create_model(vocab_size,max_length,embedding_matrix):\n",
    "    model = Sequential()\n",
    "    model.add(Embedding(vocab_size, 50, weights=[embedding_matrix], input_length = max_length))\n",
    "    model.add(Bidirectional(LSTM(32, \n",
    "                   return_sequences=False,\n",
    "                   dropout=0.1,\n",
    "                   recurrent_dropout=0.3,\n",
    "                   kernel_regularizer=l2(0.01), \n",
    "                   recurrent_regularizer=l2(0.01), \n",
    "                   bias_regularizer=l2(0.001))))\n",
    "    model.add(BatchNormalization(momentum=0.2))\n",
    "    model.add(Dense(32, kernel_regularizer=l2(0.1), bias_regularizer=l2(0.01)))\n",
    "    model.add(LeakyReLU(alpha=0.01))\n",
    "    model.add(Dropout(0.4))\n",
    "    \n",
    "    return model\n",
    "\n",
    "input_lpa = Input(shape=(1,))\n",
    "y = Dense(1, activation=\"relu\")(input_lpa)\n",
    "y = Model(inputs=input_lpa, outputs=y)\n",
    "\n",
    "\n",
    "t1 = create_model(vocab_size,max_length,embedding_matrix)\n",
    "t2 = create_model(vocab_size,max_length,embedding_matrix)\n",
    "\n",
    "\n",
    "square_diff = Lambda(squared_differences)([t1.output, t2.output])\n",
    "x = Dense(2,\n",
    "          kernel_regularizer=l2(0.5),\n",
    "          bias_regularizer=l2(0.5))(square_diff)\n",
    "\n",
    "\n",
    "\n",
    "# combinedInput = concatenate([t1.output, t2.output])\n",
    "# x = Dense(16,\n",
    "#           kernel_regularizer=l2(0.5),\n",
    "#           bias_regularizer=l2(0.5))(combinedInput)\n",
    "# x = LeakyReLU(alpha=0.01)(x)\n",
    "# x = Dropout(0.2)(x)\n",
    "# x = BatchNormalization(momentum=0.2)(x)\n",
    "x = Dense(2)(x)\n",
    "x = LeakyReLU(alpha=0.01)(x)\n",
    "# x = Dropout(0.2)(x)\n",
    "print(x),print(y)\n",
    "\n",
    "# combinedInput_2 = concatenate([x, y.output])\n",
    "combinedInput_2 = Lambda(squared_differences)([x, y.output])\n",
    "\n",
    "\n",
    "last_lyr = Dense(1, activation=\"sigmoid\")(combinedInput_2)\n",
    "\n",
    "model_2 = Model(inputs=[t1.input, t2.input,y.input], outputs=last_lyr)\n",
    "opt = Adam(lr=0.0000001, decay=0.0015 )\n",
    "# opt = SGD(lr=0.0001, decay=1e-2 )\n",
    "model_2.compile(loss=\"binary_crossentropy\", optimizer=opt,metrics = ['binary_accuracy'])\n",
    "\n",
    "\n",
    "\n",
    "\n",
    "# train the model\n",
    "print(\"[INFO] training model...\")\n",
    "history = model_2.fit(\n",
    "    x=[np.stack(X_train['tokenized_text_1'], axis=0),\n",
    "       np.stack(X_train['tokenized_text_2'], axis=0),\n",
    "       np.stack(X_train['distance'], axis=0)],\n",
    "    y=y_train,\n",
    "    validation_data=([np.stack(X_val['tokenized_text_1'], axis=0),\n",
    "                       np.stack(X_val['tokenized_text_2'], axis=0),\n",
    "                     np.stack(X_val['distance'], axis=0)], y_test),\n",
    "    epochs=20,\n",
    "    batch_size=256,\n",
    "    class_weight=weights\n",
    "    )\n",
    "\n",
    "\n",
    "\n"
   ]
  },
  {
   "cell_type": "code",
   "execution_count": 25,
   "metadata": {},
   "outputs": [
    {
     "data": {
      "image/png": "[encoded data removed]",
      "text/plain": [
       "<Figure size 432x288 with 1 Axes>"
      ]
     },
     "metadata": {},
     "output_type": "display_data"
    },
    {
     "data": {
      "image/png": "[encoded data removed]",
      "text/plain": [
       "<Figure size 432x288 with 1 Axes>"
      ]
     },
     "metadata": {},
     "output_type": "display_data"
    }
   ],
   "source": [
    "metric = 'binary_accuracy'\n",
    "\n",
    "acc = history.history[metric]\n",
    "val_acc = history.history['val_{}'.format(metric)]\n",
    "loss = history.history['loss']\n",
    "val_loss = history.history['val_loss']\n",
    "epochs = range(1, len(acc) + 1)\n",
    "\n",
    "plt.title('Training and validation accuracy')\n",
    "plt.plot(epochs, acc, 'red', label='Training acc')\n",
    "plt.plot(epochs, val_acc, 'blue', label='Validation acc')\n",
    "plt.legend()\n",
    "\n",
    "plt.figure()\n",
    "plt.title('Training and validation loss')\n",
    "plt.plot(epochs, loss, 'red', label='Training loss')\n",
    "plt.plot(epochs, val_loss, 'blue', label='Validation loss')\n",
    "plt.legend()\n",
    "\n",
    "plt.show()"
   ]
  },
  {
   "cell_type": "code",
   "execution_count": 26,
   "metadata": {},
   "outputs": [
    {
     "data": {
      "text/plain": [
       "(0.531, 0.121)"
      ]
     },
     "execution_count": 26,
     "metadata": {},
     "output_type": "execute_result"
    }
   ],
   "source": [
    "preds = model_2.predict([np.stack(X_test['tokenized_text_1'], axis=0),\n",
    "                       np.stack(X_test['tokenized_text_2'], axis=0),\n",
    "                       np.stack(X_test['distance'], axis=0)])\n",
    "preds\n",
    "\n",
    "y_classes = preds>0.5\n",
    "y_test.mean(), y_classes.mean()"
   ]
  },
  {
   "cell_type": "code",
   "execution_count": 27,
   "metadata": {},
   "outputs": [
    {
     "name": "stdout",
     "output_type": "stream",
     "text": [
      "              precision    recall  f1-score   support\n",
      "\n",
      "       False       0.48      0.89      0.62       469\n",
      "        True       0.58      0.13      0.21       531\n",
      "\n",
      "    accuracy                           0.49      1000\n",
      "   macro avg       0.53      0.51      0.42      1000\n",
      "weighted avg       0.53      0.49      0.40      1000\n",
      "\n"
     ]
    }
   ],
   "source": [
    "from sklearn.metrics import classification_report\n",
    "print(classification_report(y_test, y_classes))"
   ]
  },
  {
   "cell_type": "code",
   "execution_count": 28,
   "metadata": {},
   "outputs": [
    {
     "name": "stdout",
     "output_type": "stream",
     "text": [
      "ROC AUC=0.549\n"
     ]
    },
    {
     "data": {
      "image/png": "[encoded data removed]",
      "text/plain": [
       "<Figure size 432x288 with 1 Axes>"
      ]
     },
     "metadata": {},
     "output_type": "display_data"
    }
   ],
   "source": [
    "from sklearn.datasets import make_classification\n",
    "from sklearn.linear_model import LogisticRegression\n",
    "from sklearn.model_selection import train_test_split\n",
    "from sklearn.metrics import roc_curve\n",
    "from sklearn.metrics import roc_auc_score\n",
    "from matplotlib import pyplot\n",
    "# calculate scores\n",
    "auc = roc_auc_score(y_test, preds)\n",
    "# summarize scores\n",
    "print('ROC AUC=%.3f' % (auc))\n",
    "# calculate roc curves\n",
    "ns_fpr, ns_tpr, _ = roc_curve(y_test, preds)\n",
    "# plot the roc curve for the model\n",
    "pyplot.plot(ns_fpr, ns_tpr, linestyle='--', label='Initial benchmark - RNN')\n",
    "# axis labels\n",
    "pyplot.xlabel('False Positive Rate')\n",
    "pyplot.ylabel('True Positive Rate')\n",
    "# show the legend\n",
    "pyplot.legend()\n",
    "# show the plot\n",
    "pyplot.show()"
   ]
  },
  {
   "cell_type": "markdown",
   "metadata": {},
   "source": [
    "# feed into linear model an ensemble"
   ]
  },
  {
   "cell_type": "code",
   "execution_count": null,
   "metadata": {},
   "outputs": [],
   "source": []
  },
  {
   "cell_type": "code",
   "execution_count": 29,
   "metadata": {},
   "outputs": [
    {
     "name": "stdout",
     "output_type": "stream",
     "text": [
      "0.532\n",
      "              precision    recall  f1-score   support\n",
      "\n",
      "       False       0.24      0.51      0.32        55\n",
      "        True       0.80      0.54      0.64       195\n",
      "\n",
      "    accuracy                           0.53       250\n",
      "   macro avg       0.52      0.52      0.48       250\n",
      "weighted avg       0.67      0.53      0.57       250\n",
      "\n"
     ]
    }
   ],
   "source": [
    "preds = model.predict([np.stack(X_test['tokenized_text_1'], axis=0),\n",
    "                               np.stack(X_test['tokenized_text_2'], axis=0)])\n",
    "preds\n",
    "\n",
    "y_classes = preds>0.5\n",
    "y_test.mean(), y_classes.mean()\n",
    "\n",
    "ensemble = pd.DataFrame(X_test['distance'])\n",
    "ensemble['prev_preds'] = preds\n",
    "ensemble['y'] = y_test\n",
    "ensemble\n",
    "\n",
    "x_train_ens, x_test_ens, y_train_ens, y_test_ens = train_test_split(ensemble[['distance','prev_preds']], \n",
    "                                                                    ensemble['y'], test_size=0.25, random_state=0)\n",
    "\n",
    "from sklearn.linear_model import LogisticRegression\n",
    "logisticRegr = LogisticRegression()\n",
    "logisticRegr.fit(x_train_ens, y_train_ens)\n",
    "\n",
    "predictions = logisticRegr.predict(x_test_ens)\n",
    "\n",
    "score = logisticRegr.score(x_test_ens, y_test_ens)\n",
    "print(score)\n",
    "print(classification_report(predictions, y_test_ens))\n",
    "\n"
   ]
  },
  {
   "cell_type": "code",
   "execution_count": 30,
   "metadata": {},
   "outputs": [
    {
     "name": "stdout",
     "output_type": "stream",
     "text": [
      "ROC AUC=0.516\n"
     ]
    },
    {
     "data": {
      "image/png": "[encoded data removed]",
      "text/plain": [
       "<Figure size 432x288 with 1 Axes>"
      ]
     },
     "metadata": {},
     "output_type": "display_data"
    }
   ],
   "source": [
    "from sklearn.datasets import make_classification\n",
    "from sklearn.linear_model import LogisticRegression\n",
    "from sklearn.model_selection import train_test_split\n",
    "from sklearn.metrics import roc_curve\n",
    "from sklearn.metrics import roc_auc_score\n",
    "from matplotlib import pyplot\n",
    "# calculate scores\n",
    "auc = roc_auc_score(y_test_ens, predictions)\n",
    "# summarize scores\n",
    "print('ROC AUC=%.3f' % (auc))\n",
    "# calculate roc curves\n",
    "ns_fpr, ns_tpr, _ = roc_curve(y_test_ens, predictions)\n",
    "# plot the roc curve for the model\n",
    "pyplot.plot(ns_fpr, ns_tpr, linestyle='--', label='Initial benchmark - RNN')\n",
    "# axis labels\n",
    "pyplot.xlabel('False Positive Rate')\n",
    "pyplot.ylabel('True Positive Rate')\n",
    "# show the legend\n",
    "pyplot.legend()\n",
    "# show the plot\n",
    "pyplot.show()"
   ]
  },
  {
   "cell_type": "code",
   "execution_count": 31,
   "metadata": {},
   "outputs": [
    {
     "name": "stderr",
     "output_type": "stream",
     "text": [
      "c:\\users\\212778050\\pycharmprojects\\predict-sr-based-on-syslog\\deploy_model\\env_deployment\\lib\\site-packages\\sklearn\\model_selection\\_split.py:296: FutureWarning: Setting a random_state has no effect since shuffle is False. This will raise an error in 0.24. You should leave random_state to its default (None), or set shuffle=True.\n",
      "  FutureWarning\n",
      "c:\\users\\212778050\\pycharmprojects\\predict-sr-based-on-syslog\\deploy_model\\env_deployment\\lib\\site-packages\\sklearn\\utils\\validation.py:760: DataConversionWarning: A column-vector y was passed when a 1d array was expected. Please change the shape of y to (n_samples, ), for example using ravel().\n",
      "  y = column_or_1d(y, warn=True)\n",
      "c:\\users\\212778050\\pycharmprojects\\predict-sr-based-on-syslog\\deploy_model\\env_deployment\\lib\\site-packages\\sklearn\\utils\\validation.py:760: DataConversionWarning: A column-vector y was passed when a 1d array was expected. Please change the shape of y to (n_samples, ), for example using ravel().\n",
      "  y = column_or_1d(y, warn=True)\n",
      "c:\\users\\212778050\\pycharmprojects\\predict-sr-based-on-syslog\\deploy_model\\env_deployment\\lib\\site-packages\\sklearn\\utils\\validation.py:760: DataConversionWarning: A column-vector y was passed when a 1d array was expected. Please change the shape of y to (n_samples, ), for example using ravel().\n",
      "  y = column_or_1d(y, warn=True)\n",
      "c:\\users\\212778050\\pycharmprojects\\predict-sr-based-on-syslog\\deploy_model\\env_deployment\\lib\\site-packages\\sklearn\\utils\\validation.py:760: DataConversionWarning: A column-vector y was passed when a 1d array was expected. Please change the shape of y to (n_samples, ), for example using ravel().\n",
      "  y = column_or_1d(y, warn=True)\n",
      "c:\\users\\212778050\\pycharmprojects\\predict-sr-based-on-syslog\\deploy_model\\env_deployment\\lib\\site-packages\\sklearn\\utils\\validation.py:760: DataConversionWarning: A column-vector y was passed when a 1d array was expected. Please change the shape of y to (n_samples, ), for example using ravel().\n",
      "  y = column_or_1d(y, warn=True)\n",
      "c:\\users\\212778050\\pycharmprojects\\predict-sr-based-on-syslog\\deploy_model\\env_deployment\\lib\\site-packages\\sklearn\\model_selection\\_split.py:296: FutureWarning: Setting a random_state has no effect since shuffle is False. This will raise an error in 0.24. You should leave random_state to its default (None), or set shuffle=True.\n",
      "  FutureWarning\n",
      "c:\\users\\212778050\\pycharmprojects\\predict-sr-based-on-syslog\\deploy_model\\env_deployment\\lib\\site-packages\\sklearn\\utils\\validation.py:760: DataConversionWarning: A column-vector y was passed when a 1d array was expected. Please change the shape of y to (n_samples, ), for example using ravel().\n",
      "  y = column_or_1d(y, warn=True)\n",
      "c:\\users\\212778050\\pycharmprojects\\predict-sr-based-on-syslog\\deploy_model\\env_deployment\\lib\\site-packages\\sklearn\\utils\\validation.py:760: DataConversionWarning: A column-vector y was passed when a 1d array was expected. Please change the shape of y to (n_samples, ), for example using ravel().\n",
      "  y = column_or_1d(y, warn=True)\n",
      "c:\\users\\212778050\\pycharmprojects\\predict-sr-based-on-syslog\\deploy_model\\env_deployment\\lib\\site-packages\\sklearn\\utils\\validation.py:760: DataConversionWarning: A column-vector y was passed when a 1d array was expected. Please change the shape of y to (n_samples, ), for example using ravel().\n",
      "  y = column_or_1d(y, warn=True)\n",
      "c:\\users\\212778050\\pycharmprojects\\predict-sr-based-on-syslog\\deploy_model\\env_deployment\\lib\\site-packages\\sklearn\\utils\\validation.py:760: DataConversionWarning: A column-vector y was passed when a 1d array was expected. Please change the shape of y to (n_samples, ), for example using ravel().\n",
      "  y = column_or_1d(y, warn=True)\n",
      "c:\\users\\212778050\\pycharmprojects\\predict-sr-based-on-syslog\\deploy_model\\env_deployment\\lib\\site-packages\\sklearn\\utils\\validation.py:760: DataConversionWarning: A column-vector y was passed when a 1d array was expected. Please change the shape of y to (n_samples, ), for example using ravel().\n",
      "  y = column_or_1d(y, warn=True)\n",
      "c:\\users\\212778050\\pycharmprojects\\predict-sr-based-on-syslog\\deploy_model\\env_deployment\\lib\\site-packages\\sklearn\\model_selection\\_split.py:296: FutureWarning: Setting a random_state has no effect since shuffle is False. This will raise an error in 0.24. You should leave random_state to its default (None), or set shuffle=True.\n",
      "  FutureWarning\n",
      "c:\\users\\212778050\\pycharmprojects\\predict-sr-based-on-syslog\\deploy_model\\env_deployment\\lib\\site-packages\\sklearn\\model_selection\\_validation.py:515: DataConversionWarning: A column-vector y was passed when a 1d array was expected. Please change the shape of y to (n_samples, ), for example using ravel().\n",
      "  estimator.fit(X_train, y_train, **fit_params)\n",
      "c:\\users\\212778050\\pycharmprojects\\predict-sr-based-on-syslog\\deploy_model\\env_deployment\\lib\\site-packages\\sklearn\\model_selection\\_validation.py:515: DataConversionWarning: A column-vector y was passed when a 1d array was expected. Please change the shape of y to (n_samples, ), for example using ravel().\n",
      "  estimator.fit(X_train, y_train, **fit_params)\n",
      "c:\\users\\212778050\\pycharmprojects\\predict-sr-based-on-syslog\\deploy_model\\env_deployment\\lib\\site-packages\\sklearn\\model_selection\\_validation.py:515: DataConversionWarning: A column-vector y was passed when a 1d array was expected. Please change the shape of y to (n_samples, ), for example using ravel().\n",
      "  estimator.fit(X_train, y_train, **fit_params)\n",
      "c:\\users\\212778050\\pycharmprojects\\predict-sr-based-on-syslog\\deploy_model\\env_deployment\\lib\\site-packages\\sklearn\\model_selection\\_validation.py:515: DataConversionWarning: A column-vector y was passed when a 1d array was expected. Please change the shape of y to (n_samples, ), for example using ravel().\n",
      "  estimator.fit(X_train, y_train, **fit_params)\n",
      "c:\\users\\212778050\\pycharmprojects\\predict-sr-based-on-syslog\\deploy_model\\env_deployment\\lib\\site-packages\\sklearn\\model_selection\\_validation.py:515: DataConversionWarning: A column-vector y was passed when a 1d array was expected. Please change the shape of y to (n_samples, ), for example using ravel().\n",
      "  estimator.fit(X_train, y_train, **fit_params)\n",
      "c:\\users\\212778050\\pycharmprojects\\predict-sr-based-on-syslog\\deploy_model\\env_deployment\\lib\\site-packages\\sklearn\\model_selection\\_split.py:296: FutureWarning: Setting a random_state has no effect since shuffle is False. This will raise an error in 0.24. You should leave random_state to its default (None), or set shuffle=True.\n",
      "  FutureWarning\n",
      "c:\\users\\212778050\\pycharmprojects\\predict-sr-based-on-syslog\\deploy_model\\env_deployment\\lib\\site-packages\\sklearn\\naive_bayes.py:206: DataConversionWarning: A column-vector y was passed when a 1d array was expected. Please change the shape of y to (n_samples, ), for example using ravel().\n",
      "  y = column_or_1d(y, warn=True)\n",
      "c:\\users\\212778050\\pycharmprojects\\predict-sr-based-on-syslog\\deploy_model\\env_deployment\\lib\\site-packages\\sklearn\\naive_bayes.py:206: DataConversionWarning: A column-vector y was passed when a 1d array was expected. Please change the shape of y to (n_samples, ), for example using ravel().\n",
      "  y = column_or_1d(y, warn=True)\n",
      "c:\\users\\212778050\\pycharmprojects\\predict-sr-based-on-syslog\\deploy_model\\env_deployment\\lib\\site-packages\\sklearn\\naive_bayes.py:206: DataConversionWarning: A column-vector y was passed when a 1d array was expected. Please change the shape of y to (n_samples, ), for example using ravel().\n",
      "  y = column_or_1d(y, warn=True)\n",
      "c:\\users\\212778050\\pycharmprojects\\predict-sr-based-on-syslog\\deploy_model\\env_deployment\\lib\\site-packages\\sklearn\\naive_bayes.py:206: DataConversionWarning: A column-vector y was passed when a 1d array was expected. Please change the shape of y to (n_samples, ), for example using ravel().\n",
      "  y = column_or_1d(y, warn=True)\n",
      "c:\\users\\212778050\\pycharmprojects\\predict-sr-based-on-syslog\\deploy_model\\env_deployment\\lib\\site-packages\\sklearn\\naive_bayes.py:206: DataConversionWarning: A column-vector y was passed when a 1d array was expected. Please change the shape of y to (n_samples, ), for example using ravel().\n",
      "  y = column_or_1d(y, warn=True)\n"
     ]
    },
    {
     "name": "stdout",
     "output_type": "stream",
     "text": [
      "LR: 0.533000 (0.027857)\n",
      "LDA: 0.530000 (0.023875)\n",
      "KNN: 0.510000 (0.033912)\n",
      "NB: 0.543000 (0.035861)\n"
     ]
    },
    {
     "name": "stderr",
     "output_type": "stream",
     "text": [
      "c:\\users\\212778050\\pycharmprojects\\predict-sr-based-on-syslog\\deploy_model\\env_deployment\\lib\\site-packages\\sklearn\\model_selection\\_split.py:296: FutureWarning: Setting a random_state has no effect since shuffle is False. This will raise an error in 0.24. You should leave random_state to its default (None), or set shuffle=True.\n",
      "  FutureWarning\n",
      "c:\\users\\212778050\\pycharmprojects\\predict-sr-based-on-syslog\\deploy_model\\env_deployment\\lib\\site-packages\\sklearn\\utils\\validation.py:760: DataConversionWarning: A column-vector y was passed when a 1d array was expected. Please change the shape of y to (n_samples, ), for example using ravel().\n",
      "  y = column_or_1d(y, warn=True)\n",
      "c:\\users\\212778050\\pycharmprojects\\predict-sr-based-on-syslog\\deploy_model\\env_deployment\\lib\\site-packages\\sklearn\\utils\\validation.py:760: DataConversionWarning: A column-vector y was passed when a 1d array was expected. Please change the shape of y to (n_samples, ), for example using ravel().\n",
      "  y = column_or_1d(y, warn=True)\n",
      "c:\\users\\212778050\\pycharmprojects\\predict-sr-based-on-syslog\\deploy_model\\env_deployment\\lib\\site-packages\\sklearn\\utils\\validation.py:760: DataConversionWarning: A column-vector y was passed when a 1d array was expected. Please change the shape of y to (n_samples, ), for example using ravel().\n",
      "  y = column_or_1d(y, warn=True)\n",
      "c:\\users\\212778050\\pycharmprojects\\predict-sr-based-on-syslog\\deploy_model\\env_deployment\\lib\\site-packages\\sklearn\\utils\\validation.py:760: DataConversionWarning: A column-vector y was passed when a 1d array was expected. Please change the shape of y to (n_samples, ), for example using ravel().\n",
      "  y = column_or_1d(y, warn=True)\n",
      "c:\\users\\212778050\\pycharmprojects\\predict-sr-based-on-syslog\\deploy_model\\env_deployment\\lib\\site-packages\\sklearn\\utils\\validation.py:760: DataConversionWarning: A column-vector y was passed when a 1d array was expected. Please change the shape of y to (n_samples, ), for example using ravel().\n",
      "  y = column_or_1d(y, warn=True)\n"
     ]
    },
    {
     "name": "stdout",
     "output_type": "stream",
     "text": [
      "SVM: 0.523000 (0.025417)\n"
     ]
    },
    {
     "data": {
      "image/png": "[encoded data removed]",
      "text/plain": [
       "<Figure size 432x288 with 1 Axes>"
      ]
     },
     "metadata": {},
     "output_type": "display_data"
    }
   ],
   "source": [
    "\n",
    "seed = 2\n",
    "models = []\n",
    "models.append(('LR', LogisticRegression()))\n",
    "models.append(('LDA', LinearDiscriminantAnalysis()))\n",
    "models.append(('KNN', KNeighborsClassifier()))\n",
    "# models.append(('RF', RandomForestClassifier(n_estimators=10)))\n",
    "models.append(('NB', GaussianNB()))\n",
    "models.append(('SVM', SVC()))\n",
    "# evaluate each model in turn\n",
    "results = []\n",
    "names = []\n",
    "scoring = 'accuracy'\n",
    "for name, model in models:\n",
    "    kfold = model_selection.KFold(n_splits=5, random_state=seed)\n",
    "    cv_results = model_selection.cross_val_score(model, \n",
    "                                                 ensemble[['distance','prev_preds']],\n",
    "                                                 ensemble[['y']],\n",
    "                                                 cv=kfold,\n",
    "                                                 scoring=scoring)\n",
    "    results.append(cv_results)\n",
    "    names.append(name)\n",
    "    msg = \"%s: %f (%f)\" % (name, cv_results.mean(), cv_results.std())\n",
    "    print(msg)\n",
    "# boxplot algorithm comparison\n",
    "fig = plt.figure()\n",
    "fig.suptitle('Algorithm Comparison')\n",
    "ax = fig.add_subplot(111)\n",
    "plt.boxplot(results)\n",
    "ax.set_xticklabels(names)\n",
    "plt.show()"
   ]
  }
 ],
 "metadata": {
  "kernelspec": {
   "display_name": "model1",
   "language": "python",
   "name": "model1"
  },
  "language_info": {
   "codemirror_mode": {
    "name": "ipython",
    "version": 3
   },
   "file_extension": ".py",
   "mimetype": "text/x-python",
   "name": "python",
   "nbconvert_exporter": "python",
   "pygments_lexer": "ipython3",
   "version": "3.7.3"
  },
  "toc": {
   "base_numbering": 1,
   "nav_menu": {},
   "number_sections": true,
   "sideBar": true,
   "skip_h1_title": false,
   "title_cell": "Table of Contents",
   "title_sidebar": "Contents",
   "toc_cell": true,
   "toc_position": {},
   "toc_section_display": true,
   "toc_window_display": true
  }
 },
 "nbformat": 4,
 "nbformat_minor": 4
}
