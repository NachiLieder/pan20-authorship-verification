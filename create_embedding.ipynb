{
 "cells": [
  {
   "cell_type": "markdown",
   "metadata": {
    "toc": true
   },
   "source": [
    "<h1>Table of Contents<span class=\"tocSkip\"></span></h1>\n",
    "<div class=\"toc\"><ul class=\"toc-item\"><li><span><a href=\"#Add-LPA\" data-toc-modified-id=\"Add-LPA-1\"><span class=\"toc-item-num\">1&nbsp;&nbsp;</span>Add LPA</a></span></li><li><span><a href=\"#feed-into-linear-model-an-ensemble\" data-toc-modified-id=\"feed-into-linear-model-an-ensemble-2\"><span class=\"toc-item-num\">2&nbsp;&nbsp;</span>feed into linear model an ensemble</a></span></li></ul></div>"
   ]
  },
  {
   "cell_type": "code",
   "execution_count": 1,
   "metadata": {},
   "outputs": [
    {
     "name": "stderr",
     "output_type": "stream",
     "text": [
      "Using TensorFlow backend.\n"
     ]
    }
   ],
   "source": [
    "# from tensorflow.keras.preprocessing.text  import Tokenizer\n",
    "from keras.preprocessing.text import Tokenizer\n",
    "from keras.preprocessing.sequence import pad_sequences\n",
    "from keras.models import Sequential\n",
    "from keras.layers import Dense, Bidirectional, LSTM, Dropout, BatchNormalization\n",
    "from keras.layers.embeddings import Embedding\n",
    "import keras.backend as K\n",
    "\n",
    "import matplotlib.pyplot as plt\n",
    "\n",
    "import matplotlib.pyplot as plt\n",
    "from sklearn import model_selection\n",
    "from sklearn.linear_model import LogisticRegression\n",
    "from sklearn.tree import DecisionTreeClassifier\n",
    "from sklearn.neighbors import KNeighborsClassifier\n",
    "from sklearn.discriminant_analysis import LinearDiscriminantAnalysis\n",
    "from sklearn.naive_bayes import GaussianNB\n",
    "from sklearn.svm import SVC"
   ]
  },
  {
   "cell_type": "code",
   "execution_count": 2,
   "metadata": {},
   "outputs": [],
   "source": [
    "####################################\n",
    "# Define the max length of the text\n",
    "####################################\n",
    "max_length = 500\n"
   ]
  },
  {
   "cell_type": "code",
   "execution_count": 3,
   "metadata": {},
   "outputs": [],
   "source": [
    "import pandas as pd\n",
    "import numpy as np\n",
    "\n",
    "df = pd.read_csv('sample_0.1.csv')\n"
   ]
  },
  {
   "cell_type": "code",
   "execution_count": 4,
   "metadata": {},
   "outputs": [
    {
     "data": {
      "text/plain": [
       "(count     5224.000000\n",
       " mean     11675.117534\n",
       " std       1100.101609\n",
       " min       9717.000000\n",
       " 25%      11303.750000\n",
       " 50%      11616.000000\n",
       " 75%      11925.000000\n",
       " max      65796.000000\n",
       " Name: len_1, dtype: float64,\n",
       " count      5224.000000\n",
       " mean      11678.908882\n",
       " std        1455.235206\n",
       " min        9885.000000\n",
       " 25%       11310.000000\n",
       " 50%       11605.500000\n",
       " 75%       11941.000000\n",
       " max      101196.000000\n",
       " Name: len_2, dtype: float64)"
      ]
     },
     "execution_count": 4,
     "metadata": {},
     "output_type": "execute_result"
    }
   ],
   "source": [
    "import seaborn as sns\n",
    "df['len_1'] = df['text_1'].apply(lambda x: len(x))\n",
    "df['len_2'] = df['text_2'].apply(lambda x: len(x))\n",
    "df['len_1'].describe(),df['len_2'].describe()\n"
   ]
  },
  {
   "cell_type": "code",
   "execution_count": 5,
   "metadata": {},
   "outputs": [
    {
     "data": {
      "text/plain": [
       "Text(0.5, 0.98, 'Text Length')"
      ]
     },
     "execution_count": 5,
     "metadata": {},
     "output_type": "execute_result"
    },
    {
     "data": {
      "image/png": "[encoded data removed]",
      "text/plain": [
       "<Figure size 432x288 with 1 Axes>"
      ]
     },
     "metadata": {},
     "output_type": "display_data"
    }
   ],
   "source": [
    "# df['len_2'].hist(bins=10, grid=True)\n",
    "from scipy import stats \n",
    "sns.set_style('darkgrid')\n",
    "sns.distplot(df[['len_1']], fit=stats.laplace)\n",
    "plt.suptitle('Text Length')\n",
    "\n"
   ]
  },
  {
   "cell_type": "code",
   "execution_count": 6,
   "metadata": {},
   "outputs": [
    {
     "data": {
      "text/plain": [
       "11616.0"
      ]
     },
     "execution_count": 6,
     "metadata": {},
     "output_type": "execute_result"
    },
    {
     "data": {
      "image/png": "[encoded data removed]",
      "text/plain": [
       "<Figure size 432x288 with 1 Axes>"
      ]
     },
     "metadata": {},
     "output_type": "display_data"
    }
   ],
   "source": [
    "import ast\n",
    "df['author_1'] = df['authors'].apply(lambda x: ast.literal_eval(x)[0] )\n",
    "sns.set_style('darkgrid')\n",
    "sns.distplot(df.groupby(['author_1']).mean()['len_1'], fit=stats.laplace)\n",
    "plt.suptitle('Text Length Per Author')\n",
    "plt.xlabel('Text Length')\n",
    "\n",
    "df.groupby(['author_1']).mean()['len_1'].median()"
   ]
  },
  {
   "cell_type": "code",
   "execution_count": 7,
   "metadata": {},
   "outputs": [
    {
     "data": {
      "text/plain": [
       "(0.5342649310872895, (5224, 10))"
      ]
     },
     "execution_count": 7,
     "metadata": {},
     "output_type": "execute_result"
    }
   ],
   "source": [
    "df['same'].mean(), df.shape\n"
   ]
  },
  {
   "cell_type": "code",
   "execution_count": 8,
   "metadata": {},
   "outputs": [],
   "source": [
    "# sample_df = df.sample(n=5000)"
   ]
  },
  {
   "cell_type": "code",
   "execution_count": 9,
   "metadata": {},
   "outputs": [],
   "source": [
    "# sample_df['same'] = sample_df['same'].astype(int)\n",
    "# sample_df['same'].mean()"
   ]
  },
  {
   "cell_type": "code",
   "execution_count": 10,
   "metadata": {},
   "outputs": [],
   "source": [
    "pairs = pd.read_csv('pairs_distances.csv')\n",
    "pairs.head()\n",
    "df_with_distance = df.merge(pairs[['text_id_1','text_id_2','distance']],\n",
    "        how='inner',\n",
    "        left_on=['text_id_1','text_id_2'],\n",
    "        right_on= ['text_id_1','text_id_2'])\n"
   ]
  },
  {
   "cell_type": "code",
   "execution_count": 11,
   "metadata": {},
   "outputs": [
    {
     "data": {
      "text/plain": [
       "same\n",
       "False    1.479674\n",
       "True     1.440751\n",
       "Name: distance, dtype: float64"
      ]
     },
     "execution_count": 11,
     "metadata": {},
     "output_type": "execute_result"
    }
   ],
   "source": [
    "# df_with_distance.groupby().head()\n",
    "df_with_distance.groupby(by = 'same').mean()['distance']"
   ]
  },
  {
   "cell_type": "code",
   "execution_count": 12,
   "metadata": {},
   "outputs": [
    {
     "name": "stdout",
     "output_type": "stream",
     "text": [
      "same\n",
      "False    1.479674\n",
      "True     1.440751\n",
      "Name: distance, dtype: float64\n",
      "same\n",
      "False    0.290205\n",
      "True     0.308694\n",
      "Name: distance, dtype: float64\n"
     ]
    },
    {
     "name": "stderr",
     "output_type": "stream",
     "text": [
      "c:\\users\\212778050\\pycharmprojects\\predict-sr-based-on-syslog\\deploy_model\\env_deployment\\lib\\site-packages\\numpy\\core\\_asarray.py:83: VisibleDeprecationWarning: Creating an ndarray from ragged nested sequences (which is a list-or-tuple of lists-or-tuples-or ndarrays with different lengths or shapes) is deprecated. If you meant to do this, you must specify 'dtype=object' when creating the ndarray\n",
      "  return array(a, dtype, copy=False, order=order)\n"
     ]
    },
    {
     "data": {
      "image/png": "[encoded data removed]",
      "text/plain": [
       "<Figure size 432x288 with 1 Axes>"
      ]
     },
     "metadata": {},
     "output_type": "display_data"
    }
   ],
   "source": [
    "# see difference between distances of texts that are similar and not\n",
    "print(df_with_distance.groupby('same').mean()['distance'])\n",
    "print(df_with_distance.groupby('same').std()['distance'])\n",
    "\n",
    "\n",
    "group1 = df_with_distance[df_with_distance['same']==True]['distance']\n",
    "# group1.hist()\n",
    "# plt.show()\n",
    "group2 = df_with_distance[df_with_distance['same']==False]['distance']\n",
    "# group2.hist()\n",
    "# plt.show()\n",
    "bins = np.linspace(0, 5, 30)\n",
    "plt.hist([group1, group2], bins, label=['Similar Authors', 'Different Authors'])\n",
    "plt.legend(loc='upper right')\n",
    "plt.suptitle('Distance Distributions Between Pairs Of Texts')\n",
    "plt.show()"
   ]
  },
  {
   "cell_type": "markdown",
   "metadata": {},
   "source": [
    "Permutation Test"
   ]
  },
  {
   "cell_type": "code",
   "execution_count": 13,
   "metadata": {
    "scrolled": true
   },
   "outputs": [
    {
     "data": {
      "text/html": [
       "<div>\n",
       "<style scoped>\n",
       "    .dataframe tbody tr th:only-of-type {\n",
       "        vertical-align: middle;\n",
       "    }\n",
       "\n",
       "    .dataframe tbody tr th {\n",
       "        vertical-align: top;\n",
       "    }\n",
       "\n",
       "    .dataframe thead th {\n",
       "        text-align: right;\n",
       "    }\n",
       "</style>\n",
       "<table border=\"1\" class=\"dataframe\">\n",
       "  <thead>\n",
       "    <tr style=\"text-align: right;\">\n",
       "      <th></th>\n",
       "      <th>0</th>\n",
       "    </tr>\n",
       "  </thead>\n",
       "  <tbody>\n",
       "    <tr>\n",
       "      <th>0</th>\n",
       "      <td>False</td>\n",
       "    </tr>\n",
       "    <tr>\n",
       "      <th>1</th>\n",
       "      <td>False</td>\n",
       "    </tr>\n",
       "    <tr>\n",
       "      <th>2</th>\n",
       "      <td>False</td>\n",
       "    </tr>\n",
       "    <tr>\n",
       "      <th>3</th>\n",
       "      <td>False</td>\n",
       "    </tr>\n",
       "    <tr>\n",
       "      <th>4</th>\n",
       "      <td>False</td>\n",
       "    </tr>\n",
       "    <tr>\n",
       "      <th>5</th>\n",
       "      <td>False</td>\n",
       "    </tr>\n",
       "    <tr>\n",
       "      <th>6</th>\n",
       "      <td>False</td>\n",
       "    </tr>\n",
       "    <tr>\n",
       "      <th>7</th>\n",
       "      <td>False</td>\n",
       "    </tr>\n",
       "    <tr>\n",
       "      <th>8</th>\n",
       "      <td>False</td>\n",
       "    </tr>\n",
       "    <tr>\n",
       "      <th>9</th>\n",
       "      <td>False</td>\n",
       "    </tr>\n",
       "    <tr>\n",
       "      <th>10</th>\n",
       "      <td>False</td>\n",
       "    </tr>\n",
       "    <tr>\n",
       "      <th>11</th>\n",
       "      <td>False</td>\n",
       "    </tr>\n",
       "    <tr>\n",
       "      <th>12</th>\n",
       "      <td>False</td>\n",
       "    </tr>\n",
       "    <tr>\n",
       "      <th>13</th>\n",
       "      <td>False</td>\n",
       "    </tr>\n",
       "    <tr>\n",
       "      <th>14</th>\n",
       "      <td>False</td>\n",
       "    </tr>\n",
       "    <tr>\n",
       "      <th>15</th>\n",
       "      <td>False</td>\n",
       "    </tr>\n",
       "    <tr>\n",
       "      <th>16</th>\n",
       "      <td>False</td>\n",
       "    </tr>\n",
       "    <tr>\n",
       "      <th>17</th>\n",
       "      <td>False</td>\n",
       "    </tr>\n",
       "    <tr>\n",
       "      <th>18</th>\n",
       "      <td>False</td>\n",
       "    </tr>\n",
       "    <tr>\n",
       "      <th>19</th>\n",
       "      <td>False</td>\n",
       "    </tr>\n",
       "    <tr>\n",
       "      <th>20</th>\n",
       "      <td>False</td>\n",
       "    </tr>\n",
       "    <tr>\n",
       "      <th>21</th>\n",
       "      <td>False</td>\n",
       "    </tr>\n",
       "    <tr>\n",
       "      <th>22</th>\n",
       "      <td>False</td>\n",
       "    </tr>\n",
       "    <tr>\n",
       "      <th>23</th>\n",
       "      <td>False</td>\n",
       "    </tr>\n",
       "    <tr>\n",
       "      <th>24</th>\n",
       "      <td>False</td>\n",
       "    </tr>\n",
       "    <tr>\n",
       "      <th>25</th>\n",
       "      <td>False</td>\n",
       "    </tr>\n",
       "    <tr>\n",
       "      <th>26</th>\n",
       "      <td>False</td>\n",
       "    </tr>\n",
       "    <tr>\n",
       "      <th>27</th>\n",
       "      <td>False</td>\n",
       "    </tr>\n",
       "    <tr>\n",
       "      <th>28</th>\n",
       "      <td>False</td>\n",
       "    </tr>\n",
       "    <tr>\n",
       "      <th>29</th>\n",
       "      <td>False</td>\n",
       "    </tr>\n",
       "    <tr>\n",
       "      <th>...</th>\n",
       "      <td>...</td>\n",
       "    </tr>\n",
       "    <tr>\n",
       "      <th>9970</th>\n",
       "      <td>False</td>\n",
       "    </tr>\n",
       "    <tr>\n",
       "      <th>9971</th>\n",
       "      <td>False</td>\n",
       "    </tr>\n",
       "    <tr>\n",
       "      <th>9972</th>\n",
       "      <td>False</td>\n",
       "    </tr>\n",
       "    <tr>\n",
       "      <th>9973</th>\n",
       "      <td>False</td>\n",
       "    </tr>\n",
       "    <tr>\n",
       "      <th>9974</th>\n",
       "      <td>False</td>\n",
       "    </tr>\n",
       "    <tr>\n",
       "      <th>9975</th>\n",
       "      <td>False</td>\n",
       "    </tr>\n",
       "    <tr>\n",
       "      <th>9976</th>\n",
       "      <td>False</td>\n",
       "    </tr>\n",
       "    <tr>\n",
       "      <th>9977</th>\n",
       "      <td>False</td>\n",
       "    </tr>\n",
       "    <tr>\n",
       "      <th>9978</th>\n",
       "      <td>False</td>\n",
       "    </tr>\n",
       "    <tr>\n",
       "      <th>9979</th>\n",
       "      <td>False</td>\n",
       "    </tr>\n",
       "    <tr>\n",
       "      <th>9980</th>\n",
       "      <td>False</td>\n",
       "    </tr>\n",
       "    <tr>\n",
       "      <th>9981</th>\n",
       "      <td>False</td>\n",
       "    </tr>\n",
       "    <tr>\n",
       "      <th>9982</th>\n",
       "      <td>False</td>\n",
       "    </tr>\n",
       "    <tr>\n",
       "      <th>9983</th>\n",
       "      <td>False</td>\n",
       "    </tr>\n",
       "    <tr>\n",
       "      <th>9984</th>\n",
       "      <td>False</td>\n",
       "    </tr>\n",
       "    <tr>\n",
       "      <th>9985</th>\n",
       "      <td>False</td>\n",
       "    </tr>\n",
       "    <tr>\n",
       "      <th>9986</th>\n",
       "      <td>False</td>\n",
       "    </tr>\n",
       "    <tr>\n",
       "      <th>9987</th>\n",
       "      <td>False</td>\n",
       "    </tr>\n",
       "    <tr>\n",
       "      <th>9988</th>\n",
       "      <td>False</td>\n",
       "    </tr>\n",
       "    <tr>\n",
       "      <th>9989</th>\n",
       "      <td>False</td>\n",
       "    </tr>\n",
       "    <tr>\n",
       "      <th>9990</th>\n",
       "      <td>False</td>\n",
       "    </tr>\n",
       "    <tr>\n",
       "      <th>9991</th>\n",
       "      <td>False</td>\n",
       "    </tr>\n",
       "    <tr>\n",
       "      <th>9992</th>\n",
       "      <td>False</td>\n",
       "    </tr>\n",
       "    <tr>\n",
       "      <th>9993</th>\n",
       "      <td>False</td>\n",
       "    </tr>\n",
       "    <tr>\n",
       "      <th>9994</th>\n",
       "      <td>False</td>\n",
       "    </tr>\n",
       "    <tr>\n",
       "      <th>9995</th>\n",
       "      <td>False</td>\n",
       "    </tr>\n",
       "    <tr>\n",
       "      <th>9996</th>\n",
       "      <td>False</td>\n",
       "    </tr>\n",
       "    <tr>\n",
       "      <th>9997</th>\n",
       "      <td>False</td>\n",
       "    </tr>\n",
       "    <tr>\n",
       "      <th>9998</th>\n",
       "      <td>False</td>\n",
       "    </tr>\n",
       "    <tr>\n",
       "      <th>9999</th>\n",
       "      <td>False</td>\n",
       "    </tr>\n",
       "  </tbody>\n",
       "</table>\n",
       "<p>10000 rows × 1 columns</p>\n",
       "</div>"
      ],
      "text/plain": [
       "          0\n",
       "0     False\n",
       "1     False\n",
       "2     False\n",
       "3     False\n",
       "4     False\n",
       "5     False\n",
       "6     False\n",
       "7     False\n",
       "8     False\n",
       "9     False\n",
       "10    False\n",
       "11    False\n",
       "12    False\n",
       "13    False\n",
       "14    False\n",
       "15    False\n",
       "16    False\n",
       "17    False\n",
       "18    False\n",
       "19    False\n",
       "20    False\n",
       "21    False\n",
       "22    False\n",
       "23    False\n",
       "24    False\n",
       "25    False\n",
       "26    False\n",
       "27    False\n",
       "28    False\n",
       "29    False\n",
       "...     ...\n",
       "9970  False\n",
       "9971  False\n",
       "9972  False\n",
       "9973  False\n",
       "9974  False\n",
       "9975  False\n",
       "9976  False\n",
       "9977  False\n",
       "9978  False\n",
       "9979  False\n",
       "9980  False\n",
       "9981  False\n",
       "9982  False\n",
       "9983  False\n",
       "9984  False\n",
       "9985  False\n",
       "9986  False\n",
       "9987  False\n",
       "9988  False\n",
       "9989  False\n",
       "9990  False\n",
       "9991  False\n",
       "9992  False\n",
       "9993  False\n",
       "9994  False\n",
       "9995  False\n",
       "9996  False\n",
       "9997  False\n",
       "9998  False\n",
       "9999  False\n",
       "\n",
       "[10000 rows x 1 columns]"
      ]
     },
     "execution_count": 13,
     "metadata": {},
     "output_type": "execute_result"
    }
   ],
   "source": [
    "# import scipy.stats as stats\n",
    "# stats.ttest_ind(a=group1, b=group2, equal_var=True)\n",
    "\n",
    "# from  sklearn.model_selection import permutation_test_score\n",
    "# permutation_test_score()\n",
    "\n",
    "import random \n",
    "len1 = len(group1)\n",
    "len2 = len(group2)\n",
    "# random partitions\n",
    "observed_diff  =  group1.mean() - group2.mean()\n",
    "\n",
    "conc = group1.append(group2).reset_index(drop=True)\n",
    "conc\n",
    "# ind_vec <- sample(1:(n.A + n.B), n.A)\n",
    "\n",
    "B  = 10000\n",
    "rand_means_diff =  []\n",
    "for i in range(B):\n",
    "    ind_vec = random.sample(range(len(conc)), len1)\n",
    "    rand_means_diff.append(conc.loc[conc.index.isin(ind_vec)].mean() - conc.loc[~conc.index.isin(ind_vec)].mean())\n",
    "\n",
    "   \n",
    "rand_p_val =  abs(pd.DataFrame(rand_means_diff) ) >= abs(observed_diff)\n",
    "rand_p_val\n"
   ]
  },
  {
   "cell_type": "code",
   "execution_count": 14,
   "metadata": {},
   "outputs": [
    {
     "data": {
      "image/png": "[encoded data removed]",
      "text/plain": [
       "<Figure size 432x288 with 1 Axes>"
      ]
     },
     "metadata": {},
     "output_type": "display_data"
    }
   ],
   "source": [
    "pd.DataFrame(rand_means_diff).hist()\n",
    "plt.axvline(observed_diff)\n",
    "plt.suptitle('observed mean vs permutation sets')\n",
    "plt.savefig('images_and_reports/permutation_test.jpeg'.format(max_length))\n",
    "\n",
    "plt.show()"
   ]
  },
  {
   "cell_type": "code",
   "execution_count": 15,
   "metadata": {},
   "outputs": [
    {
     "data": {
      "text/plain": [
       "164997"
      ]
     },
     "execution_count": 15,
     "metadata": {},
     "output_type": "execute_result"
    }
   ],
   "source": [
    "#max_length = sample_df.pair.apply(lambda x: len(x.split())).max()\n",
    "\n",
    "\n",
    "\n",
    "# # get sample of N articles with distance\n",
    "# sample_df_with_distance = df_with_distance.iloc[sample_df.index]\n",
    "sample_df_with_distance = df_with_distance\n",
    "\n",
    "\n",
    "tokenizer = Tokenizer()\n",
    "tokenizer.fit_on_texts(sample_df_with_distance['pair'])\n",
    "sample_df_with_distance['tokenized_text_1'] = tokenizer.texts_to_sequences(sample_df_with_distance['text_1'])\n",
    "sample_df_with_distance['tokenized_text_2'] = tokenizer.texts_to_sequences(sample_df_with_distance['text_2'])\n",
    "sample_df_with_distance['tokenized_text_1'] = list(pad_sequences(sample_df_with_distance['tokenized_text_1'], \n",
    "                                                                 maxlen = max_length, padding='post'))\n",
    "sample_df_with_distance['tokenized_text_2'] = list(pad_sequences(sample_df_with_distance['tokenized_text_2'], \n",
    "                                                                 maxlen = max_length, padding='post'))\n",
    "\n",
    "# vocab_size = max(max([max(sublist) for sublist in df['tokenized_text_1'].values])+1 , max([max(sublist) for sublist in df['tokenized_text_2'].values])+1 )\n",
    "vocab_size = len(tokenizer.word_index.items())+1\n",
    "vocab_size"
   ]
  },
  {
   "cell_type": "code",
   "execution_count": 16,
   "metadata": {},
   "outputs": [],
   "source": [
    "import numpy as np\n",
    "embeddings_index = dict()\n",
    "f = open('../../glove/glove.6B.50d.txt', encoding=\"utf8\")\n",
    "\n",
    "for line in f:\n",
    "    values = line.split()\n",
    "    word = values[0]\n",
    "    coefs = np.asarray(values[1:], dtype='float32')\n",
    "    embeddings_index[word] = coefs\n",
    "f.close()"
   ]
  },
  {
   "cell_type": "code",
   "execution_count": 17,
   "metadata": {},
   "outputs": [],
   "source": [
    "len(tokenizer.word_index.items()),vocab_size\n",
    "vocab_size = len(tokenizer.word_index.items())+1\n"
   ]
  },
  {
   "cell_type": "code",
   "execution_count": 18,
   "metadata": {},
   "outputs": [
    {
     "data": {
      "text/plain": [
       "164997"
      ]
     },
     "execution_count": 18,
     "metadata": {},
     "output_type": "execute_result"
    }
   ],
   "source": [
    "vocab_size"
   ]
  },
  {
   "cell_type": "code",
   "execution_count": 19,
   "metadata": {},
   "outputs": [
    {
     "name": "stdout",
     "output_type": "stream",
     "text": [
      "164996\n"
     ]
    },
    {
     "data": {
      "text/plain": [
       "array([[ 0.        ,  0.        ,  0.        , ...,  0.        ,\n",
       "         0.        ,  0.        ],\n",
       "       [ 0.41800001,  0.24968   , -0.41242   , ..., -0.18411   ,\n",
       "        -0.11514   , -0.78580999],\n",
       "       [ 0.68046999, -0.039263  ,  0.30186   , ..., -0.073297  ,\n",
       "        -0.064699  , -0.26043999],\n",
       "       ...,\n",
       "       [ 0.        ,  0.        ,  0.        , ...,  0.        ,\n",
       "         0.        ,  0.        ],\n",
       "       [ 0.        ,  0.        ,  0.        , ...,  0.        ,\n",
       "         0.        ,  0.        ],\n",
       "       [ 0.        ,  0.        ,  0.        , ...,  0.        ,\n",
       "         0.        ,  0.        ]])"
      ]
     },
     "execution_count": 19,
     "metadata": {},
     "output_type": "execute_result"
    }
   ],
   "source": [
    "embedding_matrix = np.zeros((vocab_size, 50))\n",
    "print(len(tokenizer.word_index.items()))\n",
    "for word, i in tokenizer.word_index.items():\n",
    "    embedding_vector = embeddings_index.get(word)\n",
    "    if embedding_vector is not None:\n",
    "        embedding_matrix[i] = embedding_vector\n",
    "embedding_matrix"
   ]
  },
  {
   "cell_type": "code",
   "execution_count": 20,
   "metadata": {},
   "outputs": [
    {
     "data": {
      "text/plain": [
       "((3134, 3), (1045, 3), (1045, 3))"
      ]
     },
     "execution_count": 20,
     "metadata": {},
     "output_type": "execute_result"
    }
   ],
   "source": [
    "from sklearn.model_selection import train_test_split\n",
    "from sklearn.metrics import classification_report, precision_recall_curve\n",
    "\n",
    "\n",
    "X_train, X_test, y_train, y_test = train_test_split(sample_df_with_distance[['tokenized_text_1',\n",
    "                                                                             'tokenized_text_2',\n",
    "                                                                             'distance']], \n",
    "                                                    sample_df_with_distance['same'],\n",
    "                                                    test_size=0.2 , random_state=1)\n",
    "X_train, X_val, y_train, y_val = train_test_split(X_train, y_train, \n",
    "                                                  test_size=0.25, random_state=1)\n",
    "\n",
    "\n",
    "X_train.shape , X_test.shape , X_val.shape"
   ]
  },
  {
   "cell_type": "code",
   "execution_count": 21,
   "metadata": {},
   "outputs": [
    {
     "data": {
      "text/plain": [
       "500"
      ]
     },
     "execution_count": 21,
     "metadata": {},
     "output_type": "execute_result"
    }
   ],
   "source": [
    "len(X_train.iloc[1][0])"
   ]
  },
  {
   "cell_type": "code",
   "execution_count": null,
   "metadata": {},
   "outputs": [
    {
     "name": "stdout",
     "output_type": "stream",
     "text": [
      "[1.06237288 0.94454491]\n",
      "[INFO] training model...\n",
      "Train on 3134 samples, validate on 1045 samples\n",
      "Epoch 1/20\n",
      "3134/3134 [==============================] - 232s 74ms/step - loss: 67.7748 - binary_accuracy: 0.5038 - val_loss: 65.9238 - val_binary_accuracy: 0.5330\n",
      "Epoch 2/20\n",
      "3134/3134 [==============================] - 241s 77ms/step - loss: 67.6887 - binary_accuracy: 0.5144 - val_loss: 65.8603 - val_binary_accuracy: 0.5416\n",
      "Epoch 3/20\n",
      "3134/3134 [==============================] - 248s 79ms/step - loss: 67.5128 - binary_accuracy: 0.5099 - val_loss: 65.7589 - val_binary_accuracy: 0.5359\n",
      "Epoch 4/20\n",
      "3134/3134 [==============================] - 256s 82ms/step - loss: 67.5426 - binary_accuracy: 0.4949 - val_loss: 65.6723 - val_binary_accuracy: 0.5416\n",
      "Epoch 5/20\n",
      "1280/3134 [===========>..................] - ETA: 2:32 - loss: 67.2308 - binary_accuracy: 0.5172"
     ]
    }
   ],
   "source": [
    "from keras.models import Sequential, Model \n",
    "from keras.layers import Dense, Embedding, Dropout, LSTM, Concatenate , Reshape , Activation , Input, GlobalMaxPool1D, concatenate , BatchNormalization\n",
    "from tensorflow.keras.layers import Subtract ,Flatten \n",
    "from tensorflow.keras.optimizers import Adam , SGD\n",
    "from keras.layers import LeakyReLU , Dot , dot\n",
    "from keras.layers import Lambda\n",
    "from keras.regularizers import l2\n",
    "from sklearn.utils import class_weight\n",
    "\n",
    "import keras.backend as K\n",
    "from keras.layers import Lambda\n",
    "\n",
    "def squared_differences(pair_of_tensors):\n",
    "    x, y = pair_of_tensors\n",
    "    return K.square(x - y)\n",
    "\n",
    "\n",
    "\n",
    "# Calculate the weights for each class so that we can balance the data\n",
    "weights = class_weight.compute_class_weight('balanced',\n",
    "                                            np.unique(y_train),\n",
    "                                            y_train)\n",
    "print(weights)\n",
    "# create a eneric embedding layer model \n",
    "def create_model(vocab_size,max_length,embedding_matrix):\n",
    "    model = Sequential()\n",
    "    model.add(Embedding(vocab_size, 50, weights=[embedding_matrix], input_length = max_length))\n",
    "    model.add(Bidirectional(LSTM(32, \n",
    "                   return_sequences=False,\n",
    "                   dropout=0.1,\n",
    "                   recurrent_dropout=0.3,\n",
    "                   kernel_regularizer=l2(0.1), \n",
    "                   recurrent_regularizer=l2(0.1), \n",
    "                   bias_regularizer=l2(0.1))))\n",
    "    model.add(BatchNormalization(momentum=0.2))\n",
    "    model.add(Dense(32, kernel_regularizer=l2(0.1), bias_regularizer=l2(0.01)))\n",
    "    model.add(LeakyReLU(alpha=0.01))\n",
    "    model.add(Dropout(0.4))\n",
    "    \n",
    "    return model\n",
    "\n",
    "t1 = create_model(vocab_size,max_length,embedding_matrix)\n",
    "t2 = create_model(vocab_size,max_length,embedding_matrix)\n",
    "\n",
    "# combinedInput = concatenate([t1.output, t2.output])\n",
    "# combinedInput = dot([t1.output, t1.output],axes=1, normalize=True)\n",
    "\n",
    "# squared difference option\n",
    "square_diff = Lambda(squared_differences)([t1.output, t2.output])\n",
    "x = Dense(2,\n",
    "          kernel_regularizer=l2(0.5),\n",
    "          bias_regularizer=l2(0.5))(square_diff)\n",
    "\n",
    "\n",
    "# x = Dense(16,\n",
    "#           kernel_regularizer=l2(0.5),\n",
    "#           bias_regularizer=l2(0.5))(combinedInput)\n",
    "# x = LeakyReLU(alpha=0.01)(x)\n",
    "# x = Dropout(0.2)(x)\n",
    "# x = BatchNormalization(momentum=0.2)(x)\n",
    "# x = Dense(8, bias_regularizer=l2(1))(x)\n",
    "# x = LeakyReLU(alpha=0.01)(x)\n",
    "# x = Dropout(0.2)(x)\n",
    "x = Dense(1, activation=\"sigmoid\")(x)\n",
    "\n",
    "model = Model(inputs=[t1.input, t2.input], outputs=x)\n",
    "opt = Adam(lr=0.00001, decay=0.0015 )\n",
    "# opt = SGD(lr=0.0001, decay=1e-2 )\n",
    "model.compile(loss=\"binary_crossentropy\", optimizer=opt,metrics = ['binary_accuracy'])\n",
    "\n",
    "\n",
    "\n",
    "\n",
    "# train the model\n",
    "print(\"[INFO] training model...\")\n",
    "history = model.fit(\n",
    "    x=[np.stack(X_train['tokenized_text_1'], axis=0),\n",
    "       np.stack(X_train['tokenized_text_2'], axis=0)],\n",
    "    y=y_train,\n",
    "    validation_data=([np.stack(X_val['tokenized_text_1'], axis=0),\n",
    "                       np.stack(X_val['tokenized_text_2'], axis=0)], y_test),\n",
    "    epochs=20,\n",
    "    batch_size=256,\n",
    "    class_weight=weights\n",
    "    )\n",
    "\n",
    "\n",
    "\n"
   ]
  },
  {
   "cell_type": "code",
   "execution_count": null,
   "metadata": {},
   "outputs": [],
   "source": []
  },
  {
   "cell_type": "code",
   "execution_count": null,
   "metadata": {},
   "outputs": [],
   "source": [
    "metric = 'binary_accuracy'\n",
    "\n",
    "acc = history.history[metric]\n",
    "val_acc = history.history['val_{}'.format(metric)]\n",
    "loss = history.history['loss']\n",
    "val_loss = history.history['val_loss']\n",
    "epochs = range(1, len(acc) + 1)\n",
    "\n",
    "plt.title('Training and validation accuracy')\n",
    "plt.plot(epochs, acc, 'red', label='Training acc')\n",
    "plt.plot(epochs, val_acc, 'blue', label='Validation acc')\n",
    "plt.legend()\n",
    "\n",
    "plt.figure()\n",
    "plt.title('Training and validation loss')\n",
    "plt.plot(epochs, loss, 'red', label='Training loss')\n",
    "plt.plot(epochs, val_loss, 'blue', label='Validation loss')\n",
    "plt.legend()\n",
    "\n",
    "plt.show()"
   ]
  },
  {
   "cell_type": "code",
   "execution_count": null,
   "metadata": {},
   "outputs": [],
   "source": [
    "preds = model.predict([np.stack(X_test['tokenized_text_1'], axis=0),\n",
    "                               np.stack(X_test['tokenized_text_2'], axis=0)])\n",
    "preds\n",
    "\n",
    "y_classes = preds>0.5\n",
    "y_test.mean(), y_classes.mean()"
   ]
  },
  {
   "cell_type": "code",
   "execution_count": null,
   "metadata": {},
   "outputs": [],
   "source": [
    "from sklearn.metrics import classification_report\n",
    "print(classification_report(y_test, y_classes))\n",
    "\n",
    "\n",
    "report = classification_report(y_test, y_classes,output_dict=True)\n",
    "pd.DataFrame(report).transpose().to_csv('images_and_reports/classification_report_{}_lstm.csv'.format(max_length))"
   ]
  },
  {
   "cell_type": "code",
   "execution_count": null,
   "metadata": {},
   "outputs": [],
   "source": [
    "from sklearn.datasets import make_classification\n",
    "from sklearn.linear_model import LogisticRegression\n",
    "from sklearn.model_selection import train_test_split\n",
    "from sklearn.metrics import roc_curve\n",
    "from sklearn.metrics import roc_auc_score\n",
    "from matplotlib import pyplot\n",
    "# calculate scores\n",
    "auc = roc_auc_score(y_test, preds)\n",
    "# summarize scores\n",
    "print('ROC AUC=%.3f' % (auc))\n",
    "# calculate roc curves\n",
    "ns_fpr, ns_tpr, _ = roc_curve(y_test, preds)\n",
    "# plot the roc curve for the model\n",
    "pyplot.plot(ns_fpr, ns_tpr, linestyle='--', label='Initial benchmark - RNN')\n",
    "# axis labels\n",
    "pyplot.xlabel('False Positive Rate')\n",
    "pyplot.ylabel('True Positive Rate')\n",
    "# show the legend\n",
    "pyplot.legend()\n",
    "# show the plot\n",
    "plt.savefig('images_and_reports/roc_{}_lstm.jpeg'.format(max_length))\n",
    "pyplot.show()\n",
    "\n"
   ]
  },
  {
   "cell_type": "markdown",
   "metadata": {},
   "source": [
    "# Add LPA"
   ]
  },
  {
   "cell_type": "code",
   "execution_count": null,
   "metadata": {},
   "outputs": [],
   "source": [
    "pairs.shape , df.shape"
   ]
  },
  {
   "cell_type": "code",
   "execution_count": null,
   "metadata": {},
   "outputs": [],
   "source": [
    "\n",
    "# df_with_distance = df.merge(pairs[['id_1','id_2','distance']],\n",
    "#         how='inner',\n",
    "#         left_on=['id_1','id_2'],\n",
    "#         right_on= ['id_1','id_2'])\n",
    "\n",
    "\n",
    "# # get sample of N articles with distance\n",
    "# sample_df_with_distance = df_with_distance.iloc[sample_df.index]\n",
    "\n",
    "# sample_df_with_distance['tokenized_text_1'] = tokenizer.texts_to_sequences(sample_df_with_distance['text_1'])\n",
    "# sample_df_with_distance['tokenized_text_2'] = tokenizer.texts_to_sequences(sample_df_with_distance['text_2'])\n",
    "# sample_df_with_distance['tokenized_text_1'] = list(pad_sequences(sample_df_with_distance['tokenized_text_1'], maxlen = max_length, padding='post'))\n",
    "# sample_df_with_distance['tokenized_text_2'] = list(pad_sequences(sample_df_with_distance['tokenized_text_2'], maxlen = max_length, padding='post'))\n",
    "\n",
    "# # vocab_size = max(max([max(sublist) for sublist in df['tokenized_text_1'].values])+1 , max([max(sublist) for sublist in df['tokenized_text_2'].values])+1 )\n",
    "# vocab_size = len(tokenizer.word_index.items())+1\n",
    "# vocab_size\n",
    "\n"
   ]
  },
  {
   "cell_type": "code",
   "execution_count": null,
   "metadata": {},
   "outputs": [],
   "source": [
    "# X_train, X_test, y_train, y_test = train_test_split(sample_df_with_distance[['tokenized_text_1',\n",
    "#                                                                              'tokenized_text_2',\n",
    "#                                                                              'distance']], \n",
    "#                                                     sample_df_with_distance['same'],\n",
    "#                                                     test_size=0.2 , random_state=1)\n",
    "\n",
    "# X_train, X_val, y_train, y_val = train_test_split(X_train, y_train, \n",
    "#                                                   test_size=0.25, random_state=1)\n",
    "\n",
    "# X_train.shape , X_test.shape , X_val.shape"
   ]
  },
  {
   "cell_type": "code",
   "execution_count": null,
   "metadata": {},
   "outputs": [],
   "source": [
    "# create a eneric embedding layer model \n",
    "def create_model(vocab_size,max_length,embedding_matrix):\n",
    "    model = Sequential()\n",
    "    model.add(Embedding(vocab_size, 50, weights=[embedding_matrix], input_length = max_length))\n",
    "    model.add(Bidirectional(LSTM(32, \n",
    "                   return_sequences=False,\n",
    "                   dropout=0.1,\n",
    "                   recurrent_dropout=0.3,\n",
    "                   kernel_regularizer=l2(0.01), \n",
    "                   recurrent_regularizer=l2(0.01), \n",
    "                   bias_regularizer=l2(0.001))))\n",
    "    model.add(BatchNormalization(momentum=0.2))\n",
    "    model.add(Dense(32, kernel_regularizer=l2(0.1), bias_regularizer=l2(0.01)))\n",
    "    model.add(LeakyReLU(alpha=0.01))\n",
    "    model.add(Dropout(0.4))\n",
    "    \n",
    "    return model\n",
    "\n",
    "input_lpa = Input(shape=(1,))\n",
    "y = Dense(1, activation=\"relu\")(input_lpa)\n",
    "y = Model(inputs=input_lpa, outputs=y)\n",
    "\n",
    "\n",
    "t1 = create_model(vocab_size,max_length,embedding_matrix)\n",
    "t2 = create_model(vocab_size,max_length,embedding_matrix)\n",
    "\n",
    "\n",
    "square_diff = Lambda(squared_differences)([t1.output, t2.output])\n",
    "x = Dense(2,\n",
    "          kernel_regularizer=l2(0.5),\n",
    "          bias_regularizer=l2(0.5))(square_diff)\n",
    "\n",
    "\n",
    "\n",
    "# combinedInput = concatenate([t1.output, t2.output])\n",
    "# x = Dense(16,\n",
    "#           kernel_regularizer=l2(0.5),\n",
    "#           bias_regularizer=l2(0.5))(combinedInput)\n",
    "# x = LeakyReLU(alpha=0.01)(x)\n",
    "# x = Dropout(0.2)(x)\n",
    "# x = BatchNormalization(momentum=0.2)(x)\n",
    "x = Dense(2)(x)\n",
    "x = LeakyReLU(alpha=0.01)(x)\n",
    "# x = Dropout(0.2)(x)\n",
    "print(x),print(y)\n",
    "\n",
    "combinedInput_2 = concatenate([x, y.output])\n",
    "# combinedInput_2 = Lambda(squared_differences)([x, y.output])\n",
    "\n",
    "\n",
    "last_lyr = Dense(1, activation=\"sigmoid\")(combinedInput_2)\n",
    "\n",
    "model_2 = Model(inputs=[t1.input, t2.input,y.input], outputs=last_lyr)\n",
    "opt = Adam(lr=0.0000001, decay=0.0015 )\n",
    "# opt = SGD(lr=0.0001, decay=1e-2 )\n",
    "model_2.compile(loss=\"binary_crossentropy\", optimizer=opt,metrics = ['binary_accuracy'])\n",
    "\n",
    "\n",
    "\n",
    "\n",
    "# train the model\n",
    "print(\"[INFO] training model...\")\n",
    "history = model_2.fit(\n",
    "    x=[np.stack(X_train['tokenized_text_1'], axis=0),\n",
    "       np.stack(X_train['tokenized_text_2'], axis=0),\n",
    "       np.stack(X_train['distance'], axis=0)],\n",
    "    y=y_train,\n",
    "    validation_data=([np.stack(X_val['tokenized_text_1'], axis=0),\n",
    "                       np.stack(X_val['tokenized_text_2'], axis=0),\n",
    "                     np.stack(X_val['distance'], axis=0)], y_test),\n",
    "    epochs=20,\n",
    "    batch_size=256,\n",
    "    class_weight=weights\n",
    "    )\n",
    "\n",
    "\n",
    "\n"
   ]
  },
  {
   "cell_type": "code",
   "execution_count": null,
   "metadata": {},
   "outputs": [],
   "source": [
    "metric = 'binary_accuracy'\n",
    "\n",
    "acc = history.history[metric]\n",
    "val_acc = history.history['val_{}'.format(metric)]\n",
    "loss = history.history['loss']\n",
    "val_loss = history.history['val_loss']\n",
    "epochs = range(1, len(acc) + 1)\n",
    "\n",
    "plt.title('Training and validation accuracy')\n",
    "plt.plot(epochs, acc, 'red', label='Training acc')\n",
    "plt.plot(epochs, val_acc, 'blue', label='Validation acc')\n",
    "plt.legend()\n",
    "\n",
    "plt.figure()\n",
    "plt.title('Training and validation loss')\n",
    "plt.plot(epochs, loss, 'red', label='Training loss')\n",
    "plt.plot(epochs, val_loss, 'blue', label='Validation loss')\n",
    "plt.legend()\n",
    "\n",
    "plt.show()"
   ]
  },
  {
   "cell_type": "code",
   "execution_count": null,
   "metadata": {},
   "outputs": [],
   "source": [
    "preds = model_2.predict([np.stack(X_test['tokenized_text_1'], axis=0),\n",
    "                       np.stack(X_test['tokenized_text_2'], axis=0),\n",
    "                       np.stack(X_test['distance'], axis=0)])\n",
    "preds\n",
    "\n",
    "y_classes = preds>0.5\n",
    "y_test.mean(), y_classes.mean()"
   ]
  },
  {
   "cell_type": "code",
   "execution_count": null,
   "metadata": {},
   "outputs": [],
   "source": [
    "from sklearn.metrics import classification_report\n",
    "print(classification_report(y_test, y_classes))\n",
    "\n",
    "report = classification_report(y_test, y_classes,output_dict=True)\n",
    "pd.DataFrame(report).transpose().to_csv('images_and_reports/classification_report_{}_encorporated.csv'.format(max_length))"
   ]
  },
  {
   "cell_type": "code",
   "execution_count": null,
   "metadata": {},
   "outputs": [],
   "source": [
    "from sklearn.datasets import make_classification\n",
    "from sklearn.linear_model import LogisticRegression\n",
    "from sklearn.model_selection import train_test_split\n",
    "from sklearn.metrics import roc_curve\n",
    "from sklearn.metrics import roc_auc_score\n",
    "from matplotlib import pyplot\n",
    "# calculate scores\n",
    "auc = roc_auc_score(y_test, preds)\n",
    "# summarize scores\n",
    "print('ROC AUC=%.3f' % (auc))\n",
    "# calculate roc curves\n",
    "ns_fpr, ns_tpr, _ = roc_curve(y_test, preds)\n",
    "# plot the roc curve for the model\n",
    "pyplot.plot(ns_fpr, ns_tpr, linestyle='--', label='Initial benchmark - RNN')\n",
    "# axis labels\n",
    "pyplot.xlabel('False Positive Rate')\n",
    "pyplot.ylabel('True Positive Rate')\n",
    "# show the legend\n",
    "pyplot.legend()\n",
    "# show the plot\n",
    "plt.savefig('images_and_reports/roc_{}_encorporated.jpeg'.format(max_length))\n",
    "\n",
    "pyplot.show()"
   ]
  },
  {
   "cell_type": "markdown",
   "metadata": {},
   "source": [
    "# feed into linear model an ensemble"
   ]
  },
  {
   "cell_type": "code",
   "execution_count": null,
   "metadata": {},
   "outputs": [],
   "source": []
  },
  {
   "cell_type": "code",
   "execution_count": null,
   "metadata": {},
   "outputs": [],
   "source": [
    "preds = model.predict([np.stack(X_test['tokenized_text_1'], axis=0),\n",
    "                               np.stack(X_test['tokenized_text_2'], axis=0)])\n",
    "preds\n",
    "\n",
    "y_classes = preds>0.5\n",
    "y_test.mean(), y_classes.mean()\n",
    "\n",
    "ensemble = pd.DataFrame(X_test['distance'])\n",
    "ensemble['prev_preds'] = preds\n",
    "ensemble['y'] = y_test\n",
    "ensemble\n",
    "\n",
    "x_train_ens, x_test_ens, y_train_ens, y_test_ens = train_test_split(ensemble[['distance','prev_preds']], \n",
    "                                                                    ensemble['y'], test_size=0.25, random_state=0)\n",
    "\n",
    "from sklearn.linear_model import LogisticRegression\n",
    "logisticRegr = LogisticRegression()\n",
    "logisticRegr.fit(x_train_ens, y_train_ens)\n",
    "\n",
    "predictions = logisticRegr.predict(x_test_ens)\n",
    "\n",
    "score = logisticRegr.score(x_test_ens, y_test_ens)\n",
    "print(score)\n",
    "print(classification_report(predictions, y_test_ens))\n",
    "\n"
   ]
  },
  {
   "cell_type": "code",
   "execution_count": null,
   "metadata": {},
   "outputs": [],
   "source": [
    "report = classification_report(predictions, y_test_ens,output_dict=True)\n",
    "pd.DataFrame(report).transpose().to_csv('images_and_reports/classification_report_{}_stacked.csv'.format(max_length))"
   ]
  },
  {
   "cell_type": "code",
   "execution_count": null,
   "metadata": {},
   "outputs": [],
   "source": [
    "from sklearn.datasets import make_classification\n",
    "from sklearn.linear_model import LogisticRegression\n",
    "from sklearn.model_selection import train_test_split\n",
    "from sklearn.metrics import roc_curve\n",
    "from sklearn.metrics import roc_auc_score\n",
    "from matplotlib import pyplot\n",
    "# calculate scores\n",
    "auc = roc_auc_score(y_test_ens, predictions)\n",
    "# summarize scores\n",
    "print('ROC AUC=%.3f' % (auc))\n",
    "# calculate roc curves\n",
    "ns_fpr, ns_tpr, _ = roc_curve(y_test_ens, predictions)\n",
    "# plot the roc curve for the model\n",
    "pyplot.plot(ns_fpr, ns_tpr, linestyle='--', label='Initial benchmark - RNN')\n",
    "# axis labels\n",
    "pyplot.xlabel('False Positive Rate')\n",
    "pyplot.ylabel('True Positive Rate')\n",
    "# show the legend\n",
    "pyplot.legend()\n",
    "# show the plot\n",
    "plt.savefig('images_and_reports/roc_{}_stacked.jpeg'.format(max_length))\n",
    "\n",
    "pyplot.show()"
   ]
  },
  {
   "cell_type": "code",
   "execution_count": null,
   "metadata": {},
   "outputs": [],
   "source": [
    "\n",
    "seed = 2\n",
    "models = []\n",
    "models.append(('LR', LogisticRegression(tol=0.0001, class_weight='balanced')))\n",
    "models.append(('LDA', LinearDiscriminantAnalysis()))\n",
    "models.append(('KNN', KNeighborsClassifier()))\n",
    "# models.append(('RF', RandomForestClassifier(n_estimators=10)))\n",
    "models.append(('NB', GaussianNB()))\n",
    "models.append(('SVM', SVC()))\n",
    "# evaluate each model in turn\n",
    "results = []\n",
    "names = []\n",
    "scoring = 'accuracy'\n",
    "for name, model_sel in models:\n",
    "    kfold = model_selection.KFold(n_splits=15, random_state=seed)\n",
    "    cv_results = model_selection.cross_val_score(model_sel, \n",
    "                                                 ensemble[['distance','prev_preds']],\n",
    "                                                 ensemble[['y']],\n",
    "                                                 cv=kfold,\n",
    "                                                 scoring=scoring)\n",
    "    results.append(cv_results)\n",
    "    names.append(name)\n",
    "    msg = \"%s: %f (%f)\" % (name, cv_results.mean(), cv_results.std())\n",
    "    print(msg)\n",
    "# boxplot algorithm comparison\n",
    "fig = plt.figure()\n",
    "fig.suptitle('Algorithm Comparison')\n",
    "ax = fig.add_subplot(111)\n",
    "plt.boxplot(results)\n",
    "ax.set_xticklabels(names)\n",
    "plt.savefig('images_and_reports/model_selection_{}.jpeg'.format(max_length))\n",
    "\n",
    "plt.show()"
   ]
  },
  {
   "cell_type": "code",
   "execution_count": null,
   "metadata": {},
   "outputs": [],
   "source": []
  }
 ],
 "metadata": {
  "kernelspec": {
   "display_name": "model1",
   "language": "python",
   "name": "model1"
  },
  "language_info": {
   "codemirror_mode": {
    "name": "ipython",
    "version": 3
   },
   "file_extension": ".py",
   "mimetype": "text/x-python",
   "name": "python",
   "nbconvert_exporter": "python",
   "pygments_lexer": "ipython3",
   "version": "3.7.3"
  },
  "toc": {
   "base_numbering": 1,
   "nav_menu": {},
   "number_sections": true,
   "sideBar": true,
   "skip_h1_title": false,
   "title_cell": "Table of Contents",
   "title_sidebar": "Contents",
   "toc_cell": true,
   "toc_position": {},
   "toc_section_display": true,
   "toc_window_display": true
  }
 },
 "nbformat": 4,
 "nbformat_minor": 4
}
