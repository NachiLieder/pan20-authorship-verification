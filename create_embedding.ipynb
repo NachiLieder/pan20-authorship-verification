{
 "cells": [
  {
   "cell_type": "markdown",
   "metadata": {
    "toc": true
   },
   "source": [
    "<h1>Table of Contents<span class=\"tocSkip\"></span></h1>\n",
    "<div class=\"toc\"><ul class=\"toc-item\"></ul></div>"
   ]
  },
  {
   "cell_type": "code",
   "execution_count": 11,
   "metadata": {},
   "outputs": [],
   "source": [
    "# from tensorflow.keras.preprocessing.text  import Tokenizer\n",
    "from keras.preprocessing.text import Tokenizer\n",
    "from keras.preprocessing.sequence import pad_sequences\n",
    "from keras.models import Sequential\n",
    "from keras.layers import Dense, Bidirectional, LSTM, Dropout, BatchNormalization\n",
    "from keras.layers.embeddings import Embedding\n",
    "\n",
    "import matplotlib.pyplot as plt"
   ]
  },
  {
   "cell_type": "code",
   "execution_count": 27,
   "metadata": {},
   "outputs": [],
   "source": [
    "import pandas as pd\n",
    "import numpy as np\n",
    "\n",
    "df = pd.read_csv('sample.csv')\n"
   ]
  },
  {
   "cell_type": "code",
   "execution_count": 29,
   "metadata": {},
   "outputs": [
    {
     "data": {
      "text/plain": [
       "(52623, 6)"
      ]
     },
     "execution_count": 29,
     "metadata": {},
     "output_type": "execute_result"
    }
   ],
   "source": [
    "df.head()\n",
    "df['y'] = np.random.randint(0,2,size=len(df))\n",
    "df.head()\n",
    "df.shape"
   ]
  },
  {
   "cell_type": "code",
   "execution_count": 184,
   "metadata": {},
   "outputs": [],
   "source": [
    "sample_df = df.sample(n=10000)"
   ]
  },
  {
   "cell_type": "code",
   "execution_count": 185,
   "metadata": {},
   "outputs": [
    {
     "data": {
      "text/plain": [
       "0.5286"
      ]
     },
     "execution_count": 185,
     "metadata": {},
     "output_type": "execute_result"
    }
   ],
   "source": [
    "sample_df['same'] = sample_df['same'].astype(int)\n",
    "sample_df['same'].mean()"
   ]
  },
  {
   "cell_type": "code",
   "execution_count": null,
   "metadata": {},
   "outputs": [],
   "source": [
    "max_length = sample_df.pair.apply(lambda x: len(x.split())).max()\n",
    "max_length = 100\n",
    "\n",
    "tokenizer = Tokenizer()\n",
    "tokenizer.fit_on_texts(sample_df['pair'])\n",
    "sample_df['tokenized_text_1'] = tokenizer.texts_to_sequences(sample_df['text_1'])\n",
    "sample_df['tokenized_text_2'] = tokenizer.texts_to_sequences(sample_df['text_2'])\n",
    "sample_df['tokenized_text_1'] = list(pad_sequences(sample_df['tokenized_text_1'], maxlen = max_length, padding='post'))\n",
    "sample_df['tokenized_text_2'] = list(pad_sequences(sample_df['tokenized_text_2'], maxlen = max_length, padding='post'))\n",
    "\n",
    "# vocab_size = max(max([max(sublist) for sublist in df['tokenized_text_1'].values])+1 , max([max(sublist) for sublist in df['tokenized_text_2'].values])+1 )\n",
    "vocab_size = len(tokenizer.word_index.items())+1\n",
    "vocab_size"
   ]
  },
  {
   "cell_type": "code",
   "execution_count": 49,
   "metadata": {},
   "outputs": [],
   "source": [
    "import numpy as np\n",
    "embeddings_index = dict()\n",
    "f = open('../../glove/glove.6B.100d.txt', encoding=\"utf8\")\n",
    "\n",
    "for line in f:\n",
    "    values = line.split()\n",
    "    word = values[0]\n",
    "    coefs = np.asarray(values[1:], dtype='float32')\n",
    "    embeddings_index[word] = coefs\n",
    "f.close()"
   ]
  },
  {
   "cell_type": "code",
   "execution_count": 166,
   "metadata": {},
   "outputs": [],
   "source": [
    "len(tokenizer.word_index.items()),vocab_size\n",
    "vocab_size = len(tokenizer.word_index.items())+1\n"
   ]
  },
  {
   "cell_type": "code",
   "execution_count": 167,
   "metadata": {},
   "outputs": [
    {
     "name": "stdout",
     "output_type": "stream",
     "text": [
      "70573\n"
     ]
    },
    {
     "data": {
      "text/plain": [
       "array([[ 0.        ,  0.        ,  0.        , ...,  0.        ,\n",
       "         0.        ,  0.        ],\n",
       "       [-0.038194  , -0.24487001,  0.72812003, ..., -0.1459    ,\n",
       "         0.82779998,  0.27061999],\n",
       "       [-0.18970001,  0.050024  ,  0.19084001, ..., -0.39804   ,\n",
       "         0.47646999, -0.15983   ],\n",
       "       ...,\n",
       "       [ 0.        ,  0.        ,  0.        , ...,  0.        ,\n",
       "         0.        ,  0.        ],\n",
       "       [ 0.        ,  0.        ,  0.        , ...,  0.        ,\n",
       "         0.        ,  0.        ],\n",
       "       [ 0.        ,  0.        ,  0.        , ...,  0.        ,\n",
       "         0.        ,  0.        ]])"
      ]
     },
     "execution_count": 167,
     "metadata": {},
     "output_type": "execute_result"
    }
   ],
   "source": [
    "embedding_matrix = np.zeros((vocab_size, 100))\n",
    "print(len(tokenizer.word_index.items()))\n",
    "for word, i in tokenizer.word_index.items():\n",
    "    embedding_vector = embeddings_index.get(word)\n",
    "    if embedding_vector is not None:\n",
    "        embedding_matrix[i] = embedding_vector\n",
    "embedding_matrix"
   ]
  },
  {
   "cell_type": "code",
   "execution_count": 168,
   "metadata": {},
   "outputs": [],
   "source": [
    "from sklearn.model_selection import train_test_split\n",
    "from sklearn.metrics import classification_report, precision_recall_curve\n",
    "\n",
    "\n",
    "X_train, X_test, y_train, y_test = train_test_split(sample_df[['tokenized_text_1','tokenized_text_2']], sample_df['same'], random_state=1)"
   ]
  },
  {
   "cell_type": "code",
   "execution_count": 77,
   "metadata": {},
   "outputs": [
    {
     "name": "stdout",
     "output_type": "stream",
     "text": [
      "Model: \"sequential_17\"\n",
      "_________________________________________________________________\n",
      "Layer (type)                 Output Shape              Param #   \n",
      "=================================================================\n",
      "embedding_17 (Embedding)     (None, 100, 100)          1743900   \n",
      "_________________________________________________________________\n",
      "lstm_17 (LSTM)               (None, 100, 64)           42240     \n",
      "_________________________________________________________________\n",
      "global_max_pooling1d_6 (Glob (None, 64)                0         \n",
      "_________________________________________________________________\n",
      "dense_32 (Dense)             (None, 128)               8320      \n",
      "_________________________________________________________________\n",
      "dropout_29 (Dropout)         (None, 128)               0         \n",
      "_________________________________________________________________\n",
      "dense_33 (Dense)             (None, 64)                8256      \n",
      "_________________________________________________________________\n",
      "dropout_30 (Dropout)         (None, 64)                0         \n",
      "_________________________________________________________________\n",
      "dense_34 (Dense)             (None, 32)                2080      \n",
      "_________________________________________________________________\n",
      "dropout_31 (Dropout)         (None, 32)                0         \n",
      "_________________________________________________________________\n",
      "dense_35 (Dense)             (None, 1)                 33        \n",
      "=================================================================\n",
      "Total params: 1,804,829\n",
      "Trainable params: 1,804,829\n",
      "Non-trainable params: 0\n",
      "_________________________________________________________________\n",
      "None\n"
     ]
    },
    {
     "name": "stderr",
     "output_type": "stream",
     "text": [
      "c:\\users\\212778050\\pycharmprojects\\predict-sr-based-on-syslog\\deploy_model\\env_deployment\\lib\\site-packages\\tensorflow_core\\python\\framework\\indexed_slices.py:424: UserWarning: Converting sparse IndexedSlices to a dense Tensor of unknown shape. This may consume a large amount of memory.\n",
      "  \"Converting sparse IndexedSlices to a dense Tensor of unknown shape. \"\n"
     ]
    },
    {
     "name": "stdout",
     "output_type": "stream",
     "text": [
      "Train on 75 samples, validate on 25 samples\n",
      "Epoch 1/30\n",
      "75/75 [==============================] - 4s 50ms/step - loss: 0.7031 - accuracy: 0.5467 - val_loss: 0.6878 - val_accuracy: 0.5600\n",
      "Epoch 2/30\n",
      "75/75 [==============================] - 3s 42ms/step - loss: 0.6932 - accuracy: 0.4933 - val_loss: 0.6874 - val_accuracy: 0.7600\n",
      "Epoch 3/30\n",
      "75/75 [==============================] - 3s 47ms/step - loss: 0.6952 - accuracy: 0.5333 - val_loss: 0.6881 - val_accuracy: 0.5200\n",
      "Epoch 4/30\n",
      "75/75 [==============================] - 3s 42ms/step - loss: 0.7133 - accuracy: 0.5333 - val_loss: 0.6888 - val_accuracy: 0.5200\n",
      "Epoch 5/30\n",
      "75/75 [==============================] - 3s 46ms/step - loss: 0.6803 - accuracy: 0.6400 - val_loss: 0.6918 - val_accuracy: 0.5200\n",
      "Epoch 6/30\n",
      "75/75 [==============================] - 3s 41ms/step - loss: 0.6853 - accuracy: 0.5333 - val_loss: 0.7035 - val_accuracy: 0.5200\n",
      "Epoch 7/30\n",
      "75/75 [==============================] - 3s 44ms/step - loss: 0.7137 - accuracy: 0.4933 - val_loss: 0.6940 - val_accuracy: 0.5200\n",
      "Epoch 8/30\n",
      "75/75 [==============================] - 3s 44ms/step - loss: 0.6718 - accuracy: 0.6267 - val_loss: 0.6930 - val_accuracy: 0.5200\n",
      "Epoch 9/30\n",
      "75/75 [==============================] - 3s 43ms/step - loss: 0.7043 - accuracy: 0.4933 - val_loss: 0.6958 - val_accuracy: 0.5200\n",
      "Epoch 10/30\n",
      "75/75 [==============================] - 3s 47ms/step - loss: 0.6743 - accuracy: 0.5600 - val_loss: 0.6893 - val_accuracy: 0.5200\n",
      "Epoch 11/30\n",
      "75/75 [==============================] - 4s 52ms/step - loss: 0.6900 - accuracy: 0.6000 - val_loss: 0.6854 - val_accuracy: 0.5200\n",
      "Epoch 12/30\n",
      "75/75 [==============================] - 3s 46ms/step - loss: 0.6755 - accuracy: 0.5733 - val_loss: 0.6931 - val_accuracy: 0.4800\n",
      "Epoch 13/30\n",
      "75/75 [==============================] - 3s 46ms/step - loss: 0.6706 - accuracy: 0.6133 - val_loss: 0.6868 - val_accuracy: 0.5600\n",
      "Epoch 14/30\n",
      "75/75 [==============================] - 3s 44ms/step - loss: 0.6534 - accuracy: 0.6400 - val_loss: 0.6805 - val_accuracy: 0.6000\n",
      "Epoch 15/30\n",
      "75/75 [==============================] - 4s 49ms/step - loss: 0.6450 - accuracy: 0.5867 - val_loss: 0.6881 - val_accuracy: 0.6000\n",
      "Epoch 16/30\n",
      "75/75 [==============================] - 4s 51ms/step - loss: 0.6443 - accuracy: 0.6667 - val_loss: 0.6793 - val_accuracy: 0.5200\n",
      "Epoch 17/30\n",
      "75/75 [==============================] - 4s 56ms/step - loss: 0.6074 - accuracy: 0.7200 - val_loss: 0.6759 - val_accuracy: 0.5200\n",
      "Epoch 18/30\n",
      "75/75 [==============================] - 4s 52ms/step - loss: 0.5858 - accuracy: 0.7067 - val_loss: 0.7025 - val_accuracy: 0.6000\n",
      "Epoch 19/30\n",
      "75/75 [==============================] - 4s 54ms/step - loss: 0.5302 - accuracy: 0.8000 - val_loss: 0.7214 - val_accuracy: 0.5200\n",
      "Epoch 20/30\n",
      "75/75 [==============================] - 3s 43ms/step - loss: 0.5190 - accuracy: 0.7867 - val_loss: 0.7436 - val_accuracy: 0.6000\n",
      "Epoch 21/30\n",
      "75/75 [==============================] - 3s 41ms/step - loss: 0.5200 - accuracy: 0.7067 - val_loss: 0.7978 - val_accuracy: 0.4800\n",
      "Epoch 22/30\n",
      "75/75 [==============================] - 4s 48ms/step - loss: 0.4505 - accuracy: 0.8267 - val_loss: 0.7658 - val_accuracy: 0.5600\n",
      "Epoch 23/30\n",
      "75/75 [==============================] - 3s 44ms/step - loss: 0.3631 - accuracy: 0.8667 - val_loss: 0.8154 - val_accuracy: 0.5200\n",
      "Epoch 24/30\n",
      "75/75 [==============================] - 3s 45ms/step - loss: 0.3373 - accuracy: 0.8667 - val_loss: 0.7781 - val_accuracy: 0.6000\n",
      "Epoch 25/30\n",
      "75/75 [==============================] - 3s 41ms/step - loss: 0.3223 - accuracy: 0.8667 - val_loss: 0.8598 - val_accuracy: 0.4400\n",
      "Epoch 26/30\n",
      "75/75 [==============================] - 3s 42ms/step - loss: 0.2775 - accuracy: 0.9200 - val_loss: 0.8502 - val_accuracy: 0.4800\n",
      "Epoch 27/30\n",
      "75/75 [==============================] - 4s 49ms/step - loss: 0.2492 - accuracy: 0.9067 - val_loss: 0.8484 - val_accuracy: 0.4400\n",
      "Epoch 28/30\n",
      "75/75 [==============================] - 3s 45ms/step - loss: 0.3092 - accuracy: 0.8800 - val_loss: 0.9362 - val_accuracy: 0.5200\n",
      "Epoch 29/30\n",
      "75/75 [==============================] - 3s 41ms/step - loss: 0.3856 - accuracy: 0.8667 - val_loss: 0.8599 - val_accuracy: 0.4400\n",
      "Epoch 30/30\n",
      "75/75 [==============================] - 3s 40ms/step - loss: 0.2352 - accuracy: 0.9333 - val_loss: 0.9795 - val_accuracy: 0.5200\n"
     ]
    }
   ],
   "source": [
    "from keras.models import Sequential\n",
    "from keras.layers import Dense, Embedding, Dropout, LSTM\n",
    "\n",
    "\n",
    "model = Sequential()\n",
    "model.add(Embedding(vocab_size, 100, weights=[embedding_matrix], input_length = max_length))\n",
    "model.add(LSTM(64, return_sequences=True,\n",
    "              dropout=0.3, recurrent_dropout=0.3))\n",
    "model.add(GlobalMaxPool1D())\n",
    "model.add(Dense(128, activation='relu'))\n",
    "model.add(Dropout(0.3))\n",
    "model.add(Dense(64, activation='relu'))\n",
    "model.add(Dropout(0.2))\n",
    "model.add(Dense(32, activation='relu'))\n",
    "model.add(Dropout(0.1))\n",
    "model.add(Dense(1, activation='sigmoid'))\n",
    "\n",
    "model.compile(loss = 'binary_crossentropy', optimizer='adam',metrics = ['accuracy'])\n",
    "print(model.summary())\n",
    "\n",
    "batch_size = 8\n",
    "history = model.fit(np.stack(X_train['tokenized_text_1'], axis=0),\n",
    "          y_train,\n",
    "          epochs = 30,\n",
    "          batch_size=batch_size, \n",
    "          validation_data = (np.stack(X_test['tokenized_text_1'],axis=0), y_test),\n",
    "          verbose = 1)"
   ]
  },
  {
   "cell_type": "code",
   "execution_count": 181,
   "metadata": {},
   "outputs": [
    {
     "name": "stdout",
     "output_type": "stream",
     "text": [
      "[INFO] training model...\n",
      "Train on 750 samples, validate on 250 samples\n",
      "Epoch 1/2\n",
      "750/750 [==============================] - 38s 50ms/step - loss: 0.7191 - accuracy: 0.4760 - val_loss: 0.6955 - val_accuracy: 0.4760\n",
      "Epoch 2/2\n",
      "750/750 [==============================] - 33s 44ms/step - loss: 0.6972 - accuracy: 0.5000 - val_loss: 0.6937 - val_accuracy: 0.4880\n"
     ]
    }
   ],
   "source": [
    "from keras.models import Sequential, Model \n",
    "from keras.layers import Dense, Embedding, Dropout, LSTM, Concatenate , Reshape , Activation , Input\n",
    "from tensorflow.keras.layers import Subtract ,Flatten\n",
    "from tensorflow.keras.optimizers import Adam\n",
    "from keras.layers import LeakyReLU\n",
    "\n",
    "\n",
    "\n",
    "# create a eneric embedding layer model \n",
    "def create_model(vocab_size,max_length,embedding_matrix):\n",
    "    model = Sequential()\n",
    "    model.add(Embedding(vocab_size, 100, weights=[embedding_matrix], input_length = max_length))\n",
    "    model.add(LSTM(64, \n",
    "                   return_sequences=True,\n",
    "                   dropout=0.3,\n",
    "                   recurrent_dropout=0.3))\n",
    "    model.add(GlobalMaxPool1D())\n",
    "    model.add(Dense(32))\n",
    "    model.add(LeakyReLU(alpha=0.1))\n",
    "    model.add(Dropout(0.3))\n",
    "    return model\n",
    "\n",
    "t1 = create_model(vocab_size,max_length,embedding_matrix)\n",
    "t2 = create_model(vocab_size,max_length,embedding_matrix)\n",
    "\n",
    "combinedInput = concatenate([t1.output, t1.output])\n",
    "\n",
    "x = Dense(16)(combinedInput)\n",
    "x = LeakyReLU(alpha=0.1)(x)\n",
    "x = Dropout(0.1)(x)\n",
    "x = Dense(1, activation=\"sigmoid\")(x)\n",
    "\n",
    "model = Model(inputs=[t1.input, t2.input], outputs=x)\n",
    "opt = Adam(lr=1e-3, decay=1e-3 / 200)\n",
    "model.compile(loss=\"binary_crossentropy\", optimizer=opt,metrics = ['accuracy'])\n",
    "\n",
    "\n",
    "# train the model\n",
    "print(\"[INFO] training model...\")\n",
    "history = model.fit(\n",
    "    x=[np.stack(X_train['tokenized_text_1'], axis=0),\n",
    "       np.stack(X_train['tokenized_text_2'], axis=0)],\n",
    "    y=y_train,\n",
    "    validation_data=([np.stack(X_test['tokenized_text_1'], axis=0),\n",
    "                       np.stack(X_test['tokenized_text_2'], axis=0)], y_test),\n",
    "    epochs=2,\n",
    "    batch_size=256)\n",
    "\n",
    "\n",
    "\n"
   ]
  },
  {
   "cell_type": "code",
   "execution_count": 182,
   "metadata": {},
   "outputs": [
    {
     "data": {
      "image/png": "[encoded data removed]",
      "text/plain": [
       "<Figure size 432x288 with 1 Axes>"
      ]
     },
     "metadata": {
      "needs_background": "light"
     },
     "output_type": "display_data"
    },
    {
     "data": {
      "image/png": "[encoded data removed]",
      "text/plain": [
       "<Figure size 432x288 with 1 Axes>"
      ]
     },
     "metadata": {
      "needs_background": "light"
     },
     "output_type": "display_data"
    }
   ],
   "source": [
    "acc = history.history['accuracy']\n",
    "val_acc = history.history['val_accuracy']\n",
    "loss = history.history['loss']\n",
    "val_loss = history.history['val_loss']\n",
    "epochs = range(1, len(acc) + 1)\n",
    "\n",
    "plt.title('Training and validation accuracy')\n",
    "plt.plot(epochs, acc, 'red', label='Training acc')\n",
    "plt.plot(epochs, val_acc, 'blue', label='Validation acc')\n",
    "plt.legend()\n",
    "\n",
    "plt.figure()\n",
    "plt.title('Training and validation loss')\n",
    "plt.plot(epochs, loss, 'red', label='Training loss')\n",
    "plt.plot(epochs, val_loss, 'blue', label='Validation loss')\n",
    "plt.legend()\n",
    "\n",
    "plt.show()"
   ]
  },
  {
   "cell_type": "code",
   "execution_count": 183,
   "metadata": {},
   "outputs": [
    {
     "data": {
      "text/plain": [
       "{'val_loss': [0.6954734325408936, 0.6937342882156372],\n",
       " 'val_accuracy': [0.47600001096725464, 0.4880000054836273],\n",
       " 'loss': [0.7191058629353841, 0.6972303125063578],\n",
       " 'accuracy': [0.476, 0.5]}"
      ]
     },
     "execution_count": 183,
     "metadata": {},
     "output_type": "execute_result"
    }
   ],
   "source": [
    "history.history"
   ]
  }
 ],
 "metadata": {
  "kernelspec": {
   "display_name": "model1",
   "language": "python",
   "name": "model1"
  },
  "toc": {
   "base_numbering": 1,
   "nav_menu": {},
   "number_sections": true,
   "sideBar": true,
   "skip_h1_title": false,
   "title_cell": "Table of Contents",
   "title_sidebar": "Contents",
   "toc_cell": true,
   "toc_position": {},
   "toc_section_display": true,
   "toc_window_display": true
  }
 },
 "nbformat": 4,
 "nbformat_minor": 4
}
